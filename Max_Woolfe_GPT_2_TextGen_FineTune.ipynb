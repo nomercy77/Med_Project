{
  "nbformat": 4,
  "nbformat_minor": 0,
  "metadata": {
    "colab": {
      "name": "Max Woolfe GPT-2 TextGen FineTune",
      "provenance": [],
      "collapsed_sections": [
        "pel-uBULXO2L"
      ]
    },
    "kernelspec": {
      "name": "python3",
      "display_name": "Python 3"
    },
    "accelerator": "GPU"
  },
  "cells": [
    {
      "cell_type": "markdown",
      "metadata": {
        "id": "H7LoMj4GA4n_"
      },
      "source": [
        "#  Train a GPT-2 Text-Generating Model w/ GPU For Free \n",
        "\n",
        "by [Max Woolf](http://minimaxir.com)\n",
        "\n",
        "*Last updated: October 17th, 2021*\n",
        "\n",
        "Retrain an advanced text generating neural network on any text dataset **for free on a GPU using Collaboratory** using `gpt-2-simple`!\n",
        "\n",
        "For more about `gpt-2-simple`, you can visit [this GitHub repository](https://github.com/minimaxir/gpt-2-simple). You can also read my [blog post](https://minimaxir.com/2019/09/howto-gpt2/) for more information how to use this notebook!\n",
        "\n",
        "\n",
        "To get started:\n",
        "\n",
        "1. Copy this notebook to your Google Drive to keep it and save your changes. (File -> Save a Copy in Drive)\n",
        "2. Make sure you're running the notebook in Google Chrome.\n",
        "3. Run the cells below:\n"
      ]
    },
    {
      "cell_type": "code",
      "metadata": {
        "id": "KBkpRgBCBS2_",
        "colab": {
          "base_uri": "https://localhost:8080/"
        },
        "outputId": "de09306a-7278-4621-c9a1-0dddefcfb8b4"
      },
      "source": [
        "!pip install -q gpt-2-simple\n",
        "import gpt_2_simple as gpt2\n",
        "from datetime import datetime\n",
        "from google.colab import files"
      ],
      "execution_count": null,
      "outputs": [
        {
          "output_type": "stream",
          "name": "stdout",
          "text": [
            "  Building wheel for gpt-2-simple (setup.py) ... \u001b[?25l\u001b[?25hdone\n"
          ]
        }
      ]
    },
    {
      "cell_type": "markdown",
      "metadata": {
        "id": "Bj2IJLHP3KwE"
      },
      "source": [
        "## GPU\n",
        "\n",
        "Colaboratory uses either a Nvidia T4 GPU or an Nvidia K80 GPU. The T4 is slightly faster than the old K80 for training GPT-2, and has more memory allowing you to train the larger GPT-2 models and generate more text.\n",
        "\n",
        "You can verify which GPU is active by running the cell below."
      ]
    },
    {
      "cell_type": "code",
      "metadata": {
        "id": "sUmTooTW3osf",
        "colab": {
          "base_uri": "https://localhost:8080/"
        },
        "outputId": "51e54822-4200-47cb-9cb7-485d1ab21cf7"
      },
      "source": [
        "!nvidia-smi"
      ],
      "execution_count": null,
      "outputs": [
        {
          "output_type": "stream",
          "name": "stdout",
          "text": [
            "Wed Oct 27 17:09:44 2021       \n",
            "+-----------------------------------------------------------------------------+\n",
            "| NVIDIA-SMI 470.74       Driver Version: 460.32.03    CUDA Version: 11.2     |\n",
            "|-------------------------------+----------------------+----------------------+\n",
            "| GPU  Name        Persistence-M| Bus-Id        Disp.A | Volatile Uncorr. ECC |\n",
            "| Fan  Temp  Perf  Pwr:Usage/Cap|         Memory-Usage | GPU-Util  Compute M. |\n",
            "|                               |                      |               MIG M. |\n",
            "|===============================+======================+======================|\n",
            "|   0  Tesla K80           Off  | 00000000:00:04.0 Off |                    0 |\n",
            "| N/A   73C    P0    74W / 149W |   8368MiB / 11441MiB |      0%      Default |\n",
            "|                               |                      |                  N/A |\n",
            "+-------------------------------+----------------------+----------------------+\n",
            "                                                                               \n",
            "+-----------------------------------------------------------------------------+\n",
            "| Processes:                                                                  |\n",
            "|  GPU   GI   CI        PID   Type   Process name                  GPU Memory |\n",
            "|        ID   ID                                                   Usage      |\n",
            "|=============================================================================|\n",
            "|  No running processes found                                                 |\n",
            "+-----------------------------------------------------------------------------+\n"
          ]
        }
      ]
    },
    {
      "cell_type": "markdown",
      "metadata": {
        "id": "0wXB05bPDYxS"
      },
      "source": [
        "## Downloading GPT-2\n",
        "\n",
        "If you're retraining a model on new text, you need to download the GPT-2 model first. \n",
        "\n",
        "There are three released sizes of GPT-2:\n",
        "\n",
        "* `124M` (default): the \"small\" model, 500MB on disk.\n",
        "* `355M`: the \"medium\" model, 1.5GB on disk.\n",
        "* `774M`: the \"large\" model, cannot currently be finetuned with Colaboratory but can be used to generate text from the pretrained model (see later in Notebook)\n",
        "* `1558M`: the \"extra large\", true model. Will not work if a K80/P4 GPU is attached to the notebook. (like `774M`, it cannot be finetuned).\n",
        "\n",
        "Larger models have more knowledge, but take longer to finetune and longer to generate text. You can specify which base model to use by changing `model_name` in the cells below.\n",
        "\n",
        "The next cell downloads it from Google Cloud Storage and saves it in the Colaboratory VM at `/models/<model_name>`.\n",
        "\n",
        "This model isn't permanently saved in the Colaboratory VM; you'll have to redownload it if you want to retrain it at a later time."
      ]
    },
    {
      "cell_type": "code",
      "metadata": {
        "id": "P8wSlgXoDPCR",
        "colab": {
          "base_uri": "https://localhost:8080/"
        },
        "outputId": "193aedf6-4253-4477-ae94-52df9a95f8b4"
      },
      "source": [
        "gpt2.download_gpt2(model_name=\"124M\")"
      ],
      "execution_count": null,
      "outputs": [
        {
          "output_type": "stream",
          "name": "stderr",
          "text": [
            "Fetching checkpoint: 1.05Mit [00:00, 456Mit/s]                                                      \n",
            "Fetching encoder.json: 1.05Mit [00:00, 1.38Mit/s]\n",
            "Fetching hparams.json: 1.05Mit [00:00, 222Mit/s]                                                    \n",
            "Fetching model.ckpt.data-00000-of-00001: 498Mit [00:47, 10.4Mit/s]\n",
            "Fetching model.ckpt.index: 1.05Mit [00:00, 121Mit/s]                                                \n",
            "Fetching model.ckpt.meta: 1.05Mit [00:00, 1.93Mit/s]\n",
            "Fetching vocab.bpe: 1.05Mit [00:00, 2.00Mit/s]\n"
          ]
        }
      ]
    },
    {
      "cell_type": "markdown",
      "metadata": {
        "id": "N8KXuKWzQSsN"
      },
      "source": [
        "## Mounting Google Drive\n",
        "\n",
        "The best way to get input text to-be-trained into the Colaboratory VM, and to get the trained model *out* of Colaboratory, is to route it through Google Drive *first*.\n",
        "\n",
        "Running this cell (which will only work in Colaboratory) will mount your personal Google Drive in the VM, which later cells can use to get data in/out. (it will ask for an auth code; that auth is not saved anywhere)"
      ]
    },
    {
      "cell_type": "code",
      "metadata": {
        "colab": {
          "base_uri": "https://localhost:8080/"
        },
        "id": "APjIdJ9kO-gA",
        "outputId": "38795f8f-2038-4938-aa4e-b1c8f948eca5"
      },
      "source": [
        "%ls"
      ],
      "execution_count": null,
      "outputs": [
        {
          "output_type": "stream",
          "name": "stdout",
          "text": [
            "\u001b[0m\u001b[01;34mdrive\u001b[0m/  \u001b[01;34mmodels\u001b[0m/  \u001b[01;34msample_data\u001b[0m/\n"
          ]
        }
      ]
    },
    {
      "cell_type": "code",
      "metadata": {
        "id": "puq4iC6vUAHc",
        "colab": {
          "base_uri": "https://localhost:8080/"
        },
        "outputId": "54fcfe0c-e65c-4c6e-f5ae-2d00ffce788a"
      },
      "source": [
        "gpt2.mount_gdrive()"
      ],
      "execution_count": null,
      "outputs": [
        {
          "output_type": "stream",
          "name": "stdout",
          "text": [
            "Mounted at /content/drive\n"
          ]
        }
      ]
    },
    {
      "cell_type": "markdown",
      "metadata": {
        "id": "BT__brhBCvJu"
      },
      "source": [
        "## Uploading a Text File to be Trained to Colaboratory\n",
        "\n",
        "In the Colaboratory Notebook sidebar on the left of the screen, select *Files*. From there you can upload files:\n",
        "\n",
        "![alt text](https://i.imgur.com/TGcZT4h.png)\n",
        "\n",
        "Upload **any smaller text file**  (<10 MB) and update the file name in the cell below, then run the cell."
      ]
    },
    {
      "cell_type": "code",
      "metadata": {
        "id": "scaRYeib50Po"
      },
      "source": [
        ""
      ],
      "execution_count": null,
      "outputs": []
    },
    {
      "cell_type": "code",
      "metadata": {
        "colab": {
          "base_uri": "https://localhost:8080/"
        },
        "id": "dd30-ys8y5L6",
        "outputId": "a70d5dcd-4f5f-4342-e2c8-8bf9309e3a80"
      },
      "source": [
        "%cd .."
      ],
      "execution_count": null,
      "outputs": [
        {
          "output_type": "stream",
          "name": "stdout",
          "text": [
            "/\n"
          ]
        }
      ]
    },
    {
      "cell_type": "code",
      "metadata": {
        "colab": {
          "base_uri": "https://localhost:8080/"
        },
        "id": "NMykR5cXy45z",
        "outputId": "e1f86cc0-8168-4121-9f87-a7306793c13e"
      },
      "source": [
        "%"
      ],
      "execution_count": null,
      "outputs": [
        {
          "output_type": "stream",
          "name": "stdout",
          "text": [
            "ls: cannot access 'drive': Transport endpoint is not connected\n",
            "\u001b[0m\u001b[01;34mbin\u001b[0m/      \u001b[01;34mdev\u001b[0m/    \u001b[01;34mlib\u001b[0m/    \u001b[01;34mmnt\u001b[0m/         \u001b[01;34mroot\u001b[0m/  \u001b[01;34msys\u001b[0m/                \u001b[01;34musr\u001b[0m/\n",
            "\u001b[01;34mboot\u001b[0m/     \u001b[01;34mdrive\u001b[0m/  \u001b[01;34mlib32\u001b[0m/  \u001b[01;34mopt\u001b[0m/         \u001b[01;34mrun\u001b[0m/   \u001b[01;34mtensorflow-1.15.2\u001b[0m/  \u001b[01;34mvar\u001b[0m/\n",
            "\u001b[01;34mcontent\u001b[0m/  \u001b[01;34metc\u001b[0m/    \u001b[01;34mlib64\u001b[0m/  \u001b[01;34mproc\u001b[0m/        \u001b[01;34msbin\u001b[0m/  \u001b[30;42mtmp\u001b[0m/\n",
            "\u001b[01;34mdatalab\u001b[0m/  \u001b[01;34mhome\u001b[0m/   \u001b[01;34mmedia\u001b[0m/  \u001b[01;34mpython-apt\u001b[0m/  \u001b[01;34msrv\u001b[0m/   \u001b[01;34mtools\u001b[0m/\n"
          ]
        }
      ]
    },
    {
      "cell_type": "code",
      "metadata": {
        "colab": {
          "base_uri": "https://localhost:8080/"
        },
        "id": "w2vNVmXExyxv",
        "outputId": "b14ed2fb-f247-4b8f-e6fe-a45471155b5b"
      },
      "source": [
        "from google.colab import drive\n",
        "drive.mount('/drive')"
      ],
      "execution_count": null,
      "outputs": [
        {
          "output_type": "stream",
          "name": "stdout",
          "text": [
            "Mounted at /drive\n"
          ]
        }
      ]
    },
    {
      "cell_type": "code",
      "metadata": {
        "id": "6OFnPCLADfll"
      },
      "source": [
        "file_name = \"pharmacology_book.txt\""
      ],
      "execution_count": null,
      "outputs": []
    },
    {
      "cell_type": "markdown",
      "metadata": {
        "id": "HeeSKtNWUedE"
      },
      "source": [
        "If your text file is larger than 10MB, it is recommended to upload that file to Google Drive first, then copy that file from Google Drive to the Colaboratory VM."
      ]
    },
    {
      "cell_type": "code",
      "metadata": {
        "colab": {
          "base_uri": "https://localhost:8080/"
        },
        "id": "5EsduvA9xTPJ",
        "outputId": "66f78c0b-2263-4ae6-dd07-a074db25d045"
      },
      "source": [
        "plaa%ls"
      ],
      "execution_count": null,
      "outputs": [
        {
          "output_type": "stream",
          "name": "stdout",
          "text": [
            "\u001b[0m\u001b[01;32manscombe.json\u001b[0m*                mnist_test.csv         \u001b[01;32mREADME.md\u001b[0m*\n",
            "california_housing_test.csv   mnist_train_small.csv\n",
            "california_housing_train.csv  pharmacology_book.txt\n"
          ]
        }
      ]
    },
    {
      "cell_type": "code",
      "metadata": {
        "id": "-Z6okFD8VKtS"
      },
      "source": [
        "gpt2.copy_file_from_gdrive('pharmacology_book.txt')"
      ],
      "execution_count": null,
      "outputs": []
    },
    {
      "cell_type": "markdown",
      "metadata": {
        "id": "LdpZQXknFNY3"
      },
      "source": [
        "## Finetune GPT-2\n",
        "\n",
        "The next cell will start the actual finetuning of GPT-2. It creates a persistent TensorFlow session which stores the training config, then runs the training for the specified number of `steps`. (to have the finetuning run indefinitely, set `steps = -1`)\n",
        "\n",
        "The model checkpoints will be saved in `/checkpoint/run1` by default. The checkpoints are saved every 500 steps (can be changed) and when the cell is stopped.\n",
        "\n",
        "The training might time out after 4ish hours; make sure you end training and save the results so you don't lose them!\n",
        "\n",
        "**IMPORTANT NOTE:** If you want to rerun this cell, **restart the VM first** (Runtime -> Restart Runtime). You will need to rerun imports but not recopy files.\n",
        "\n",
        "Other optional-but-helpful parameters for `gpt2.finetune`:\n",
        "\n",
        "\n",
        "*  **`restore_from`**: Set to `fresh` to start training from the base GPT-2, or set to `latest` to restart training from an existing checkpoint.\n",
        "* **`sample_every`**: Number of steps to print example output\n",
        "* **`print_every`**: Number of steps to print training progress.\n",
        "* **`learning_rate`**:  Learning rate for the training. (default `1e-4`, can lower to `1e-5` if you have <1MB input data)\n",
        "*  **`run_name`**: subfolder within `checkpoint` to save the model. This is useful if you want to work with multiple models (will also need to specify  `run_name` when loading the model)\n",
        "* **`overwrite`**: Set to `True` if you want to continue finetuning an existing model (w/ `restore_from='latest'`) without creating duplicate copies. "
      ]
    },
    {
      "cell_type": "code",
      "metadata": {
        "id": "aeXshJM-Cuaf",
        "colab": {
          "base_uri": "https://localhost:8080/"
        },
        "outputId": "b85d2fa7-8d0f-4822-940d-a03f7b4c394e"
      },
      "source": [
        "sess = gpt2.start_tf_sess()\n",
        "\n",
        "gpt2.finetune(sess,\n",
        "              dataset=file_name,\n",
        "              model_name='124M',\n",
        "              steps=1000,\n",
        "              restore_from='fresh',\n",
        "              run_name='run1',\n",
        "              print_every=10,\n",
        "              sample_every=200,\n",
        "              save_every=500\n",
        "              )"
      ],
      "execution_count": null,
      "outputs": [
        {
          "metadata": {
            "tags": null
          },
          "name": "stdout",
          "output_type": "stream",
          "text": [
            "Loading checkpoint models/124M/model.ckpt\n",
            "INFO:tensorflow:Restoring parameters from models/124M/model.ckpt\n",
            "Loading dataset...\n"
          ]
        },
        {
          "metadata": {
            "tags": null
          },
          "name": "stderr",
          "output_type": "stream",
          "text": [
            "100%|██████████| 1/1 [00:03<00:00,  3.90s/it]\n"
          ]
        },
        {
          "output_type": "stream",
          "name": "stdout",
          "text": [
            "dataset has 530670 tokens\n",
            "Training...\n",
            "[10 | 50.21] loss=2.71 avg=2.71\n",
            "[20 | 94.27] loss=2.81 avg=2.76\n",
            "[30 | 138.33] loss=2.88 avg=2.80\n",
            "[40 | 182.33] loss=2.45 avg=2.71\n",
            "[50 | 226.29] loss=2.57 avg=2.68\n",
            "[60 | 270.24] loss=2.59 avg=2.67\n",
            "[70 | 314.19] loss=2.58 avg=2.65\n",
            "[80 | 358.13] loss=2.18 avg=2.59\n",
            "[90 | 402.11] loss=2.59 avg=2.59\n",
            "[100 | 446.06] loss=2.36 avg=2.57\n",
            "[110 | 490.01] loss=2.47 avg=2.56\n",
            "[120 | 534.01] loss=2.24 avg=2.53\n",
            "[130 | 577.96] loss=1.96 avg=2.48\n",
            "[140 | 621.98] loss=2.36 avg=2.47\n",
            "[150 | 665.95] loss=2.33 avg=2.46\n",
            "[160 | 709.97] loss=2.37 avg=2.46\n",
            "[170 | 753.93] loss=2.52 avg=2.46\n",
            "[180 | 797.91] loss=2.17 avg=2.44\n",
            "[190 | 841.93] loss=2.21 avg=2.43\n",
            "[200 | 885.90] loss=2.43 avg=2.43\n",
            "======== SAMPLE 1 ========\n",
            "iltative symptoms (e.g., lethargy, lethargy, dyspnea) have not been reported in the general population. This may be because it is not clear if this is due to any of the medications or to their specific teratogens.\n",
            " Dose (more than once daily) of teratogen may be considered for more frequent administration. A single dose of the same agent may be given every month for the years 2006, 2006, and 2010 for teratogen doses not to exceed three times the recommended daily dose.\n",
            " In fact, in most patients, the usual dose of 300 mcg/day is recommended, but in some instances, the dose can be increased to 4,000 mg/day for an extended period.\n",
            "Dosing\n",
            " Administration of ?-adrenergic blockers to the GI tract is routinely recommended to alleviate the GI distress that accompanies anemic or lethargic episodes. The majority of patients tolerate these doses well, and some even tolerate a few of the usual antithyroid drugs at once.\n",
            " Antithyroid drugs decrease GI clearance in the GI tract, decrease protein clearance from the GI cells, and increase the likelihood of absorption by the GI tract.\n",
            " ?-Adrenergic antagonists inhibit T-cells and act as translocators in the GI tract when administered with a GI peptide, allowing them to travel to the area of absorption to act as a potent inhibitor. As well, they are also biologic inducers and have antibacterial and antiinflammatory activity in the GI tract.\n",
            "?-Adrenergic blockers prevent antithyroid production, which may improve GI symptoms. Antithyroid use should be reserved for patients with normal renal function, those whose renal function is compromised or patients at risk for antithyroid toxicity.\n",
            " The advantages of using nonsteroidal antiinflammatory drugs over both ?-adrenergic and ?-adrenergic ?-adrenergic agonists, include fewer side effects and less bleeding, more complete absorption, and an increased GI output. ?-Adrenergic antiblockers improve GI emptying, which may ultimately lead to higher GI output but little diarrhea. ?-Adrenergic antiblockers may improve diarrhea, but diarrhea usually does not recur further than 4 days after administration. Because the combination of ?-adrenergic antiblockers has some advantages over the other agents, there are no data to support the therapeutic benefits against diarrhea.\n",
            "?-Adrenergic antagonist has the potential to worsen diarrhea and decrease symptoms of lethargy, lethargy; but in healthy individuals, ?-adrenergic antagonism is not associated with improved diarrhea. In contrast, the ?-agonist and other ?-adrenergic antagonists have negative effects on diarrhea, including decreased GI output (increased urine excretion) and diarrhea, but these effects are less frequent than the combination of ?-adrenergic antagonists. Doses can be used for patients who do not have appropriate access to alternative therapies.\n",
            " ?-Adrenergic agonists are associated with decreases in GI clearance, GI obstruction, and weight gain, and have adverse effects on GI function and quality of life as well as GI quality of life and GI complications. However, the association between the ?-agonists and diarrhea is not as robust as the association between the ?-agonists and diarrhea and GI symptoms.\n",
            " The most clinically useful ?-agonist is the single ?-adrenergic antagonist tranylcypromine. It is well known to be associated with diarrhea and GI disturbances, but one study showed a more severe adverse effect than expected with one of the ?-agonists.\n",
            " Because neither agonist is effective in the reduction of the GI tract obstruction seen frequently with the other, it has been considered only as an option for those with inadequate access and for those at risk for adverse effects.\n",
            "\n",
            " CLINICAL PRESENTATION\t\n",
            "?-Blockers are associated with adverse events and have been associated with increased mortality (Table 52-4). ?-Adrenergic antagonists tend to have less impact on the GI tract when administered, which may have a more positive impact on the overall GI status of patients receiving medication. ?-Adrenergic antagonists decrease urinary excretion of antinulanic drugs (e.g., sodium, sodium bicarbonate), decrease the amount of sodium excreted (e.g., sodium salts and acetate), and decrease the number of urinary excrements, leading to a greater GI clearance and diarrhea.\n",
            " Tranylcypromine has been associated with GI obstruction in several animal studies but there is insufficient data to provide an empiric guide for the clinical presentation of this agent. ?-Blockers may increase the risk of colitis, abdominal distension, and diarrhea, which may be less likely when given in combination with ?-adrenergic antagonists.\n",
            "\n",
            " DIAGNOSIS\t\n",
            " Dose (a daily dose), symptom duration, and duration of action are shown in Table 52-5.\n",
            "\n",
            "SECTION 5\n",
            "\n",
            "[210 | 949.68] loss=2.18 avg=2.42\n",
            "[220 | 993.67] loss=1.97 avg=2.39\n",
            "[230 | 1037.70] loss=1.89 avg=2.37\n",
            "[240 | 1081.74] loss=2.34 avg=2.37\n",
            "[250 | 1125.72] loss=2.11 avg=2.36\n",
            "[260 | 1169.76] loss=2.18 avg=2.35\n",
            "[270 | 1213.77] loss=1.82 avg=2.33\n",
            "[280 | 1257.81] loss=2.06 avg=2.32\n",
            "[290 | 1301.84] loss=1.94 avg=2.30\n",
            "[300 | 1345.87] loss=2.08 avg=2.29\n",
            "[310 | 1389.85] loss=1.93 avg=2.28\n",
            "[320 | 1433.98] loss=2.07 avg=2.27\n",
            "[330 | 1477.96] loss=1.95 avg=2.26\n",
            "[340 | 1521.97] loss=1.85 avg=2.25\n",
            "[350 | 1565.98] loss=1.79 avg=2.23\n",
            "[360 | 1610.00] loss=1.81 avg=2.22\n",
            "[370 | 1654.03] loss=2.02 avg=2.21\n",
            "[380 | 1698.03] loss=1.71 avg=2.19\n",
            "[390 | 1742.02] loss=2.06 avg=2.19\n",
            "[400 | 1785.96] loss=1.59 avg=2.17\n",
            "======== SAMPLE 1 ========\n",
            " other patients should be followed closely for 4 to 6 months after completion of treatment.\n",
            " The FDA recently approved the use of an oral amphotericin B in combination with an oral amphotericin S for the treatment of chronic pain. The recommended dose for chronic pain is a single dose up to a maximum of four doses. The average benefit is about 2 to 3 weeks of benefit. Patients with a patient score of ?5, as measured by a one-month remission after treatment; patients with a score of less than 1, measured by a one-month remission after treatment; and patients with less than 1, measured as being less than satisfied;\n",
            "\n",
            "Pain Management | CHAPTER 53\n",
            "\n",
            ">5; painless pain; and radiographic findings of arthritis, fibrosis, and joint destruction. The goals of therapy are to: (1) remove pain and tenderness; (2) reduce the pathologic manifestations of disease and reduce disability; and (3) prevent or minimize recurrence and recurrence-like symptoms. Pain relievers may cause fewer adverse effects than those intended.\n",
            " The antispasmodics and antiinflammatory agents are not as likely to induce a rebound after discontinuation as is commonly observed with the use of nonantispasmodic therapies. Antibodies reduce the incidence of adverse-event events.\n",
            " The most common adverse-event events (TABLE 53-1) included dizziness; headache; palpitations, abdominal pain, skin infections, and other painful areas; nausea; vomiting; and bone marrow suppression.\n",
            " All types of analgesics are equally effective. Eplerenone acetate and metoclopramide do not cause rebound attacks in chronic pain after extended use of the antisecretory agent.\n",
            "\n",
            " DIAGNOSIS\t\n",
            " The definitive diagnosis of chronic pain is confirmed by the clinician's diagnosis and management of each individual.\n",
            " Pain can be episodic, unrelenting, continuous, unpredictable, or fluctuating. It may be chronic (somnogram-negative) or episodic, persistent, fluctuating with frequency; intermittent, unpredictable, or unpredictable pain can be painfree; intermittent pain can be unpredictable and unresponsive to its own effects; and intermittent pain can require prolonged periods of therapy.\n",
            "\n",
            "PATHOPHYSIOLOGY\n",
            " Pain develops over time as a result of trauma, trauma, or injury, either as a direct or indirect event (e.g., trauma or physical impact). The pathogenesis of chronic pain is complex and includes inflammatory mediators (e.g., mononotriene [MT]) and intracellular (e.g., tumor necrosis factor-? [TNF-]) that stimulate pain transmission to other tissues.\n",
            " Chronic pain develops over and over and may include multiple organ systems. Tissue cultures and interstitial fluid are frequently required for definitive diagnosis.\n",
            " Pathologic findings include neuropathy, hyperalgesia, and inflammatory changes such as nodules, oligohumoradia, and neutrophil apoptosis.\n",
            " The clinical diagnosis of chronic pain is multifocal, depending on the location. Bone marrow suppression is a common diagnosis. The role of neutrophils in the diagnosis of chronic pain is unknown. In some cases, the presence of lymphocytes may indicate a primary disease, a pathogen, or a group of organisms that are capable of causing pain.\n",
            "\n",
            "CLINICAL PRESENTATION\n",
            " Pain usually appears unresponsive to standard analgesics or nonprescription forms of therapy. Pain may be episodic, unrelentingly unrelenting, or fluctuating.\n",
            " Pain may be categorized into episodic, nonprescription analgesia (e.g., migraine or somnolence), episodic pain primarily related to migraine and associated musculoskeletal disorders or conditions (e.g., spinal cord injuries, trauma, surgery), intermittent or continuous pain in the acute phase (e.g., chronic pain lasting more than 2 days), continuous pain in moderate to severe pain (e.g., chronic pain lasting more than 1 week), and intermittent pain (e.g., pain associated with sudden and unexpected incisions or other incisions).\n",
            " Pain may be categorized as episodic, nonprescription analgesia (e.g., migraine), episodic pain primarily related to migraine and associated musculoskeletal disorders or conditions (e.g., spinal cord injuries, trauma, paroxysmal myopathy), or continuous pain in the acute phase.\n",
            "\n",
            "\n",
            "\n",
            "\n",
            "FIGURE 53-1. Diagnosis and treatment of chronic pain. A, Histological pain; B, Bone marrow suppression; C, Endoscopy; D, Echocardiography; E, Endoscopy of chronic pain. (Histologic pain, incisions and trauma; Endoscopy, surgical, diagnostic, and general.)\n",
            "\n",
            "TREATMENT\n",
            " The role of analgesia in pain management is becoming increasingly important, especially as adverse effects and increased morbidity with therapy have become more prominent.\n",
            " Analgesia is the\n",
            "\n",
            "[410 | 1848.46] loss=2.01 avg=2.17\n",
            "[420 | 1892.47] loss=2.01 avg=2.16\n",
            "[430 | 1936.49] loss=1.76 avg=2.15\n",
            "[440 | 1980.52] loss=1.61 avg=2.14\n",
            "[450 | 2024.49] loss=1.72 avg=2.12\n",
            "[460 | 2068.50] loss=1.49 avg=2.11\n",
            "[470 | 2112.42] loss=1.56 avg=2.09\n",
            "[480 | 2156.39] loss=1.46 avg=2.08\n",
            "[490 | 2200.45] loss=1.97 avg=2.07\n",
            "[500 | 2244.49] loss=1.79 avg=2.07\n",
            "Saving checkpoint/run1/model-500\n",
            "[510 | 2291.52] loss=1.76 avg=2.06\n",
            "[520 | 2335.48] loss=1.30 avg=2.04\n",
            "[530 | 2379.46] loss=1.70 avg=2.03\n",
            "[540 | 2423.41] loss=1.84 avg=2.03\n",
            "[550 | 2467.45] loss=1.44 avg=2.01\n",
            "[560 | 2511.36] loss=1.42 avg=2.00\n",
            "[570 | 2555.31] loss=1.63 avg=1.99\n",
            "[580 | 2599.31] loss=1.40 avg=1.98\n",
            "[590 | 2643.25] loss=1.41 avg=1.97\n",
            "[600 | 2687.16] loss=1.19 avg=1.95\n",
            "======== SAMPLE 1 ========\n",
            "CLICIOUS HEADACHE\n",
            "Erysipelas, also known as Stenosis or Pneumocystis japonica, is a common, rapidly changing ileus of anorectal material associated with chlamydia infection in adults and men at risk for transmission. The course is usually modest (usually 5 days or less) and associated with loss of lymphatic function and shortness of breath.\n",
            " Signs and symptoms of Erysipelas are similar to those of Pneumocirus japonica in clinical presentation.\n",
            " Symptoms of bacterial infection in the urinary tract are nonspecific and begin abruptly, most commonly with rapid enlargement of small, mucocutaneous (head and gut) compartments and diffuse inflammation (bulbaria, salivary gland enlargement, and anemia). Stenosis is common and manifests as localized swelling on palpation and skin examination.\n",
            " The clinical presentation of Erysipelas is similar to that of Pneumocirus japonica. On examination, skin and mucocutaneous areas are soft and warm with a gradual flattening over time; cricothyroid and gram-negative bacteria, including salmonella, coccidioidomycosis, cytomegalovirus, and monocytogen-resistant S. multocida are seen on other scales. Examination of the extremities suggests a predominantly skin-to-skin or pericyclic dermatologic appearance with rare but extremely persistent erythema.\n",
            " Treatment of Erysipelas depends on the area involved and the duration of the infection. Treatment begins immediately, continues for several days, and then gradually decreases over the course of several days. Serum concentrations increase within 7 days and decrease throughout the next 3 days.\n",
            " Treatment of Pneumocirus japonica should be targeted at the area of infection and the cellular size of the organism (i.e., smaller biologic subunits of the yeast cell). Doses of oral antimicrobials should be given 24 hours before washing and refrigeration because crystalloids generally retain their potency longer and are easier to transport than crystalloids.\n",
            " The recommended duration of therapy for Erysipelas is 3 days in the oral range and 10 days in the parenteral range, or from 72 hours to 60 days. In most patients, the therapy is prolonged. A minimum of 6 months of therapy is recommended.\n",
            " The role of dicloxacillin in Escherichia coli infections remains controversial. It is available as an indoles-free tablet, capsule, and disposable filter; data are being collected for capsules of Escherichia coli 7 in 96-outpatients and 48-in-100-89ers of Doxycyclinem cinollimonium 200 400 500 are commercially available.\n",
            "\n",
            "SECTION 5 | Gastrointestinal Disorders\n",
            "\n",
            " Pima grapefruits may cause polyuria in susceptible patients when given orally to patients with high plasma concentrations of the gener-\n",
            " ically active peptides streptomycin 500 mg/ 480 mg of streptomycin base 600 mg/ 464 mg of streptomycin.\n",
            " The most common adverse events were severe purulent rash (3%) and headache (4.8% in men, 5% in women).\n",
            " Sildenafil in penicillinase-resistant penicillins with activity against Gram-negative cocci is a first-line option. Dicloxacillin 600 mg twice daily for 8 days, then ciprofloxacin 400 mg twice daily for 8 days is similar to penicillin-susceptible penicillins.\n",
            " If not treated adequately, sildenafil may cause a severe form of disseminated intravascular coagulitis.\n",
            "Antimicrobial Therapy\n",
            " Cefotaximec, ceftriaxone, ceftriaxone-nefazolin, and cefotaximec are antimicrobial agents prophylactic therapy. Dicloxacillin 200 mg every 8 hours is effective in CA or UT men with complicated bacterial regu-\n",
            "sions.\n",
            " Penicillinase-resistant penicillins should be considered for treatment in severe regurgitation situations, in patients with cholestatic cirrhosis, asymptomatic patients and those with hepatic disease, and in individuals older than 50 years who would require treatment. Parenteral cephalosporins should be considered for treatment of severe regurgitation situations and asapentin-sulbactam, doxorubicins, or carbapenems are contraindicated in patients at least 4 years old.\n",
            " Treatment of penicillin-allergic patients with or with severe allergic contact dermatitis during the previous 6 months has proven effective in reducing seborrheic reactions that are common in allergic contact dermatitis. Nifedipine, doxorubicin, or carbap\n",
            "\n",
            "[610 | 2749.66] loss=1.48 avg=1.94\n",
            "[620 | 2793.68] loss=1.79 avg=1.94\n",
            "[630 | 2837.62] loss=1.35 avg=1.92\n",
            "[640 | 2881.59] loss=1.60 avg=1.92\n",
            "[650 | 2925.55] loss=1.08 avg=1.90\n",
            "[660 | 2969.49] loss=1.46 avg=1.89\n",
            "[670 | 3013.42] loss=1.64 avg=1.88\n",
            "[680 | 3057.40] loss=1.23 avg=1.87\n",
            "[690 | 3101.39] loss=1.20 avg=1.86\n",
            "[700 | 3145.38] loss=1.12 avg=1.84\n",
            "[710 | 3189.39] loss=1.19 avg=1.83\n",
            "[720 | 3233.37] loss=1.17 avg=1.82\n",
            "[730 | 3277.38] loss=1.15 avg=1.80\n",
            "[740 | 3321.33] loss=1.33 avg=1.80\n",
            "[750 | 3365.27] loss=0.99 avg=1.78\n",
            "[760 | 3409.22] loss=1.10 avg=1.77\n",
            "[770 | 3453.17] loss=1.20 avg=1.76\n",
            "[780 | 3497.11] loss=0.90 avg=1.74\n",
            "[790 | 3541.03] loss=0.88 avg=1.73\n",
            "[800 | 3584.97] loss=1.13 avg=1.71\n",
            "======== SAMPLE 1 ========\n",
            " aerron, tetracycline, and naloxone).\n",
            "\n",
            "See Chap. 19, Heroin Drug Information, authored by Douglas J. Manley, for a more detailed discussion of this topic.\n",
            "\n",
            "871\n",
            " DEFINITION\t\n",
            " The substance-related disorders include disorders of intoxication, dependence, and withdrawal. Substance-related substance dependence (SASD) is defined as a chronic state of chronic unconsciousness following an acute, chronic event. Substance-induced SASD (also called an SGA) results from the actions of the neurotransmitters acetylcholine, ?-adrenergic, and ?-adrenergic receptors.\n",
            "\n",
            " PATHOPHYSIOLOGY\t\n",
            " SGA and SGA antagonist appear to act via a postsynaptic receptor on acetylcholine (which is a nonenzymatic state) and ?-adrenergic receptors. Both receptors produce a neurotransmitter called acetylcholine.\n",
            " SGA is a member of the ?-endorphins family.\n",
            " Nonenzymatic ?-endorphin binding occurs with all receptors of the nonenzymatic ?-endorphin receptor. Increased acetylcholine also occurs with high acetylcholine levels. Both types are found in cerebrospinal fluid.\n",
            " SGA is indicated for the following conditions:\n",
            " Patients whose central nervous system is already damaged and requires expensive drugs to control seizures\n",
            " Patients whose seizures interfere with normal motor functions or have a sudden onset of activity\n",
            " Patients with coexisting drug reactions or coexisting alcohol or drug intoxication\n",
            " Patients with underlying Cushing's syndrome, Addison's disease, epilepsy, or Cerebral Palsy\n",
            "\n",
            "PHARMACOLOGIC TREATMENT\n",
            " Emphasize attention to detail when optimizing medication for an SGA inhibitor.\n",
            " Monitor pharmacokinetic parameters closely when prescribing drugs to SGA inhibitors.\n",
            " Always consult the labeling for drugs or consult the medication table to determine which drug is specifically recommended.\n",
            " Always consult the labeling for drugs or consult the medication table to determine which drug is specifically recommended. Also, always consult the labeling for drugs or consult the medication table to determine which drug is specifically recommended.\n",
            " Avoid high-potency, high-toxicity medications when SGA-initiated surgery:\n",
            " Highpotency, high-toxicity (HF) medications generally have higher propensity to precipitate alcohol-induced SGA than lowpotency medications.\n",
            " Low-potency, low-toxicity medications generally have lower propensity to precipitate alcohol-induced SGA than highpotency medications.\n",
            " If SGA-initiated, always discuss drug options with patient, caregiver, and prescriber, especially when considering an SGA inhibitor.\n",
            "\n",
            "SECTION 9 | Neurologic Disorders\n",
            "\n",
            " When a drug product or dosage form is changed, always provide a detailed history and medical history to obtain an accurate history and medical history if needed.\n",
            " If an SGA-initiated procedure is to be continued, always discuss the drug options with patient, caregiver, and prescriber.\n",
            "See Chap. 20, Heroin Drug Information, authored by Douglas J. Manley, for a more detailed discussion of this topic.\n",
            "\n",
            "\n",
            "\n",
            "\n",
            "\n",
            "\n",
            "\n",
            "\n",
            "972\n",
            " DEFINITIONS\t\n",
            " Portal hypertension refers to hypertension in which the pressure is passed from one central aortic or aric vein to another via a small, short-diastemitic subcutaneous vein that eventually drains of the aorta.\n",
            " Portal hypertension can occur as a result of a hypertensive emergency, an acute hypertensive condition requiring intubation or intubation, a hypertensive end-organ condition, a hypertensive arteriovenous condition, or an intraventricular hypertensive condition that can develop.\n",
            " Portal hypertension can occur at the base of the PVC in children, in adults, and in subcutaneous catheters; the aorta is the most common site of central aortic or coronary hypertension in both children and adults.\n",
            "\n",
            " CLINICAL PRESENTATION\t\n",
            " Signs and symptoms of CHC vary depending on the etiology of the patient and the pathophysiologic mechanisms underlying its etiology. Important clinical information regarding a patient's condition and the need for specific treatment is addressed in this chapter.\n",
            " The signs and symptoms of CHC include acute onset of acute central hypertension that often manifests as a persistent sense of chest pain. In these patients, blood flow secondary to the plexiglass and aortic or bacillary sphincter is diminished and the patient is unable to void blood. Intubation of the aorta is generally restricted to one nostril or one of the eyes.\n",
            " Chest x-ray or chest x-ray may be required if the aorta is not shallow, has a normal systolic pressure, or has a congestive tension condition.\n",
            " Chest x-ray or chest x-ray will be the best clinical examination for suspected CHC. Many clinicians will grade the presence and\n",
            "\n",
            "[810 | 3647.41] loss=1.12 avg=1.70\n",
            "[820 | 3691.33] loss=1.30 avg=1.70\n",
            "[830 | 3735.21] loss=1.19 avg=1.69\n",
            "[840 | 3779.21] loss=0.90 avg=1.67\n",
            "[850 | 3823.17] loss=0.80 avg=1.66\n",
            "[860 | 3867.14] loss=0.91 avg=1.65\n",
            "[870 | 3911.10] loss=1.14 avg=1.64\n",
            "[880 | 3955.05] loss=1.15 avg=1.63\n",
            "[890 | 3999.04] loss=1.07 avg=1.62\n",
            "[900 | 4043.00] loss=0.77 avg=1.61\n",
            "[910 | 4086.93] loss=0.68 avg=1.59\n",
            "[920 | 4130.85] loss=0.72 avg=1.58\n",
            "[930 | 4174.79] loss=0.68 avg=1.56\n",
            "[940 | 4218.70] loss=0.88 avg=1.55\n",
            "[950 | 4262.67] loss=0.92 avg=1.54\n",
            "[960 | 4306.58] loss=0.83 avg=1.53\n",
            "[970 | 4350.48] loss=0.93 avg=1.52\n",
            "[980 | 4394.43] loss=1.00 avg=1.51\n",
            "[990 | 4438.30] loss=0.88 avg=1.50\n",
            "[1000 | 4482.22] loss=0.78 avg=1.49\n",
            "Saving checkpoint/run1/model-1000\n",
            "WARNING:tensorflow:From /usr/local/lib/python3.7/dist-packages/tensorflow/python/training/saver.py:971: remove_checkpoint (from tensorflow.python.training.checkpoint_management) is deprecated and will be removed in a future version.\n",
            "Instructions for updating:\n",
            "Use standard file APIs to delete files with this prefix.\n"
          ]
        }
      ]
    },
    {
      "cell_type": "markdown",
      "metadata": {
        "id": "IXSuTNERaw6K"
      },
      "source": [
        "After the model is trained, you can copy the checkpoint folder to your own Google Drive.\n",
        "\n",
        "If you want to download it to your personal computer, it's strongly recommended you copy it there first, then download from Google Drive. The checkpoint folder is copied as a `.rar` compressed file; you can download it and uncompress it locally."
      ]
    },
    {
      "cell_type": "code",
      "metadata": {
        "id": "VHdTL8NDbAh3"
      },
      "source": [
        "gpt2.copy_checkpoint_to_gdrive(run_name='run1')"
      ],
      "execution_count": null,
      "outputs": []
    },
    {
      "cell_type": "markdown",
      "metadata": {
        "id": "qQJgV_b4bmzd"
      },
      "source": [
        "You're done! Feel free to go to the **Generate Text From The Trained Model** section to generate text based on your retrained model."
      ]
    },
    {
      "cell_type": "markdown",
      "metadata": {
        "id": "pel-uBULXO2L"
      },
      "source": [
        "## Load a Trained Model Checkpoint\n",
        "\n",
        "Running the next cell will copy the `.rar` checkpoint file from your Google Drive into the Colaboratory VM."
      ]
    },
    {
      "cell_type": "code",
      "metadata": {
        "id": "DCcx5u7sbPTD"
      },
      "source": [
        "gpt2.copy_checkpoint_from_gdrive(run_name='run1')"
      ],
      "execution_count": null,
      "outputs": []
    },
    {
      "cell_type": "markdown",
      "metadata": {
        "id": "RTa6zf3e_9gV"
      },
      "source": [
        "The next cell will allow you to load the retrained model checkpoint + metadata necessary to generate text.\n",
        "\n",
        "**IMPORTANT NOTE:** If you want to rerun this cell, **restart the VM first** (Runtime -> Restart Runtime). You will need to rerun imports but not recopy files."
      ]
    },
    {
      "cell_type": "code",
      "metadata": {
        "id": "-fxL77nvAMAX",
        "colab": {
          "base_uri": "https://localhost:8080/"
        },
        "outputId": "8938432a-3b86-4102-f32b-362721ecb897"
      },
      "source": [
        "sess = gpt2.start_tf_sess()\n",
        "gpt2.load_gpt2(sess, run_name='run1')"
      ],
      "execution_count": null,
      "outputs": [
        {
          "output_type": "stream",
          "name": "stdout",
          "text": [
            "Loading checkpoint checkpoint/run1/model-1000\n",
            "INFO:tensorflow:Restoring parameters from checkpoint/run1/model-1000\n"
          ]
        }
      ]
    },
    {
      "cell_type": "markdown",
      "metadata": {
        "id": "ClJwpF_ACONp"
      },
      "source": [
        "## Generate Text From The Trained Model\n",
        "\n",
        "After you've trained the model or loaded a retrained model from checkpoint, you can now generate text. `generate` generates a single text from the loaded model."
      ]
    },
    {
      "cell_type": "code",
      "metadata": {
        "id": "4RNY6RBI9LmL",
        "colab": {
          "base_uri": "https://localhost:8080/",
          "height": 303
        },
        "outputId": "c2d80332-db45-4d03-9a1c-a0e9534fffe6"
      },
      "source": [
        "gpt2.generate(sess, run_name='run1')"
      ],
      "execution_count": null,
      "outputs": [
        {
          "output_type": "error",
          "ename": "KeyboardInterrupt",
          "evalue": "ignored",
          "traceback": [
            "\u001b[0;31m---------------------------------------------------------------------------\u001b[0m",
            "\u001b[0;31mKeyboardInterrupt\u001b[0m                         Traceback (most recent call last)",
            "\u001b[0;32m<ipython-input-12-5d868bf0f80e>\u001b[0m in \u001b[0;36m<module>\u001b[0;34m()\u001b[0m\n\u001b[0;32m----> 1\u001b[0;31m \u001b[0mgpt2\u001b[0m\u001b[0;34m.\u001b[0m\u001b[0mgenerate\u001b[0m\u001b[0;34m(\u001b[0m\u001b[0msess\u001b[0m\u001b[0;34m,\u001b[0m \u001b[0mrun_name\u001b[0m\u001b[0;34m=\u001b[0m\u001b[0;34m'run1'\u001b[0m\u001b[0;34m)\u001b[0m\u001b[0;34m\u001b[0m\u001b[0;34m\u001b[0m\u001b[0m\n\u001b[0m",
            "\u001b[0;32m/usr/local/lib/python3.7/dist-packages/gpt_2_simple/gpt_2.py\u001b[0m in \u001b[0;36mgenerate\u001b[0;34m(sess, run_name, checkpoint_dir, model_name, model_dir, sample_dir, return_as_list, truncate, destination_path, sample_delim, prefix, seed, nsamples, batch_size, length, temperature, top_k, top_p, include_prefix)\u001b[0m\n\u001b[1;32m    475\u001b[0m     \u001b[0;32mwhile\u001b[0m \u001b[0mgenerated\u001b[0m \u001b[0;34m<\u001b[0m \u001b[0mnsamples\u001b[0m\u001b[0;34m:\u001b[0m\u001b[0;34m\u001b[0m\u001b[0;34m\u001b[0m\u001b[0m\n\u001b[1;32m    476\u001b[0m         \u001b[0;32mif\u001b[0m \u001b[0;32mnot\u001b[0m \u001b[0mprefix\u001b[0m\u001b[0;34m:\u001b[0m\u001b[0;34m\u001b[0m\u001b[0;34m\u001b[0m\u001b[0m\n\u001b[0;32m--> 477\u001b[0;31m             \u001b[0mout\u001b[0m \u001b[0;34m=\u001b[0m \u001b[0msess\u001b[0m\u001b[0;34m.\u001b[0m\u001b[0mrun\u001b[0m\u001b[0;34m(\u001b[0m\u001b[0moutput\u001b[0m\u001b[0;34m)\u001b[0m\u001b[0;34m\u001b[0m\u001b[0;34m\u001b[0m\u001b[0m\n\u001b[0m\u001b[1;32m    478\u001b[0m         \u001b[0;32melse\u001b[0m\u001b[0;34m:\u001b[0m\u001b[0;34m\u001b[0m\u001b[0;34m\u001b[0m\u001b[0m\n\u001b[1;32m    479\u001b[0m             out = sess.run(output, feed_dict={\n",
            "\u001b[0;32m/usr/local/lib/python3.7/dist-packages/tensorflow/python/client/session.py\u001b[0m in \u001b[0;36mrun\u001b[0;34m(self, fetches, feed_dict, options, run_metadata)\u001b[0m\n\u001b[1;32m    966\u001b[0m     \u001b[0;32mtry\u001b[0m\u001b[0;34m:\u001b[0m\u001b[0;34m\u001b[0m\u001b[0;34m\u001b[0m\u001b[0m\n\u001b[1;32m    967\u001b[0m       result = self._run(None, fetches, feed_dict, options_ptr,\n\u001b[0;32m--> 968\u001b[0;31m                          run_metadata_ptr)\n\u001b[0m\u001b[1;32m    969\u001b[0m       \u001b[0;32mif\u001b[0m \u001b[0mrun_metadata\u001b[0m\u001b[0;34m:\u001b[0m\u001b[0;34m\u001b[0m\u001b[0;34m\u001b[0m\u001b[0m\n\u001b[1;32m    970\u001b[0m         \u001b[0mproto_data\u001b[0m \u001b[0;34m=\u001b[0m \u001b[0mtf_session\u001b[0m\u001b[0;34m.\u001b[0m\u001b[0mTF_GetBuffer\u001b[0m\u001b[0;34m(\u001b[0m\u001b[0mrun_metadata_ptr\u001b[0m\u001b[0;34m)\u001b[0m\u001b[0;34m\u001b[0m\u001b[0;34m\u001b[0m\u001b[0m\n",
            "\u001b[0;32m/usr/local/lib/python3.7/dist-packages/tensorflow/python/client/session.py\u001b[0m in \u001b[0;36m_run\u001b[0;34m(self, handle, fetches, feed_dict, options, run_metadata)\u001b[0m\n\u001b[1;32m   1189\u001b[0m     \u001b[0;32mif\u001b[0m \u001b[0mfinal_fetches\u001b[0m \u001b[0;32mor\u001b[0m \u001b[0mfinal_targets\u001b[0m \u001b[0;32mor\u001b[0m \u001b[0;34m(\u001b[0m\u001b[0mhandle\u001b[0m \u001b[0;32mand\u001b[0m \u001b[0mfeed_dict_tensor\u001b[0m\u001b[0;34m)\u001b[0m\u001b[0;34m:\u001b[0m\u001b[0;34m\u001b[0m\u001b[0;34m\u001b[0m\u001b[0m\n\u001b[1;32m   1190\u001b[0m       results = self._do_run(handle, final_targets, final_fetches,\n\u001b[0;32m-> 1191\u001b[0;31m                              feed_dict_tensor, options, run_metadata)\n\u001b[0m\u001b[1;32m   1192\u001b[0m     \u001b[0;32melse\u001b[0m\u001b[0;34m:\u001b[0m\u001b[0;34m\u001b[0m\u001b[0;34m\u001b[0m\u001b[0m\n\u001b[1;32m   1193\u001b[0m       \u001b[0mresults\u001b[0m \u001b[0;34m=\u001b[0m \u001b[0;34m[\u001b[0m\u001b[0;34m]\u001b[0m\u001b[0;34m\u001b[0m\u001b[0;34m\u001b[0m\u001b[0m\n",
            "\u001b[0;32m/usr/local/lib/python3.7/dist-packages/tensorflow/python/client/session.py\u001b[0m in \u001b[0;36m_do_run\u001b[0;34m(self, handle, target_list, fetch_list, feed_dict, options, run_metadata)\u001b[0m\n\u001b[1;32m   1367\u001b[0m     \u001b[0;32mif\u001b[0m \u001b[0mhandle\u001b[0m \u001b[0;32mis\u001b[0m \u001b[0;32mNone\u001b[0m\u001b[0;34m:\u001b[0m\u001b[0;34m\u001b[0m\u001b[0;34m\u001b[0m\u001b[0m\n\u001b[1;32m   1368\u001b[0m       return self._do_call(_run_fn, feeds, fetches, targets, options,\n\u001b[0;32m-> 1369\u001b[0;31m                            run_metadata)\n\u001b[0m\u001b[1;32m   1370\u001b[0m     \u001b[0;32melse\u001b[0m\u001b[0;34m:\u001b[0m\u001b[0;34m\u001b[0m\u001b[0;34m\u001b[0m\u001b[0m\n\u001b[1;32m   1371\u001b[0m       \u001b[0;32mreturn\u001b[0m \u001b[0mself\u001b[0m\u001b[0;34m.\u001b[0m\u001b[0m_do_call\u001b[0m\u001b[0;34m(\u001b[0m\u001b[0m_prun_fn\u001b[0m\u001b[0;34m,\u001b[0m \u001b[0mhandle\u001b[0m\u001b[0;34m,\u001b[0m \u001b[0mfeeds\u001b[0m\u001b[0;34m,\u001b[0m \u001b[0mfetches\u001b[0m\u001b[0;34m)\u001b[0m\u001b[0;34m\u001b[0m\u001b[0;34m\u001b[0m\u001b[0m\n",
            "\u001b[0;32m/usr/local/lib/python3.7/dist-packages/tensorflow/python/client/session.py\u001b[0m in \u001b[0;36m_do_call\u001b[0;34m(self, fn, *args)\u001b[0m\n\u001b[1;32m   1373\u001b[0m   \u001b[0;32mdef\u001b[0m \u001b[0m_do_call\u001b[0m\u001b[0;34m(\u001b[0m\u001b[0mself\u001b[0m\u001b[0;34m,\u001b[0m \u001b[0mfn\u001b[0m\u001b[0;34m,\u001b[0m \u001b[0;34m*\u001b[0m\u001b[0margs\u001b[0m\u001b[0;34m)\u001b[0m\u001b[0;34m:\u001b[0m\u001b[0;34m\u001b[0m\u001b[0;34m\u001b[0m\u001b[0m\n\u001b[1;32m   1374\u001b[0m     \u001b[0;32mtry\u001b[0m\u001b[0;34m:\u001b[0m\u001b[0;34m\u001b[0m\u001b[0;34m\u001b[0m\u001b[0m\n\u001b[0;32m-> 1375\u001b[0;31m       \u001b[0;32mreturn\u001b[0m \u001b[0mfn\u001b[0m\u001b[0;34m(\u001b[0m\u001b[0;34m*\u001b[0m\u001b[0margs\u001b[0m\u001b[0;34m)\u001b[0m\u001b[0;34m\u001b[0m\u001b[0;34m\u001b[0m\u001b[0m\n\u001b[0m\u001b[1;32m   1376\u001b[0m     \u001b[0;32mexcept\u001b[0m \u001b[0merrors\u001b[0m\u001b[0;34m.\u001b[0m\u001b[0mOpError\u001b[0m \u001b[0;32mas\u001b[0m \u001b[0me\u001b[0m\u001b[0;34m:\u001b[0m\u001b[0;34m\u001b[0m\u001b[0;34m\u001b[0m\u001b[0m\n\u001b[1;32m   1377\u001b[0m       \u001b[0mmessage\u001b[0m \u001b[0;34m=\u001b[0m \u001b[0mcompat\u001b[0m\u001b[0;34m.\u001b[0m\u001b[0mas_text\u001b[0m\u001b[0;34m(\u001b[0m\u001b[0me\u001b[0m\u001b[0;34m.\u001b[0m\u001b[0mmessage\u001b[0m\u001b[0;34m)\u001b[0m\u001b[0;34m\u001b[0m\u001b[0;34m\u001b[0m\u001b[0m\n",
            "\u001b[0;32m/usr/local/lib/python3.7/dist-packages/tensorflow/python/client/session.py\u001b[0m in \u001b[0;36m_run_fn\u001b[0;34m(feed_dict, fetch_list, target_list, options, run_metadata)\u001b[0m\n\u001b[1;32m   1358\u001b[0m       \u001b[0mself\u001b[0m\u001b[0;34m.\u001b[0m\u001b[0m_extend_graph\u001b[0m\u001b[0;34m(\u001b[0m\u001b[0;34m)\u001b[0m\u001b[0;34m\u001b[0m\u001b[0;34m\u001b[0m\u001b[0m\n\u001b[1;32m   1359\u001b[0m       return self._call_tf_sessionrun(options, feed_dict, fetch_list,\n\u001b[0;32m-> 1360\u001b[0;31m                                       target_list, run_metadata)\n\u001b[0m\u001b[1;32m   1361\u001b[0m \u001b[0;34m\u001b[0m\u001b[0m\n\u001b[1;32m   1362\u001b[0m     \u001b[0;32mdef\u001b[0m \u001b[0m_prun_fn\u001b[0m\u001b[0;34m(\u001b[0m\u001b[0mhandle\u001b[0m\u001b[0;34m,\u001b[0m \u001b[0mfeed_dict\u001b[0m\u001b[0;34m,\u001b[0m \u001b[0mfetch_list\u001b[0m\u001b[0;34m)\u001b[0m\u001b[0;34m:\u001b[0m\u001b[0;34m\u001b[0m\u001b[0;34m\u001b[0m\u001b[0m\n",
            "\u001b[0;32m/usr/local/lib/python3.7/dist-packages/tensorflow/python/client/session.py\u001b[0m in \u001b[0;36m_call_tf_sessionrun\u001b[0;34m(self, options, feed_dict, fetch_list, target_list, run_metadata)\u001b[0m\n\u001b[1;32m   1451\u001b[0m     return tf_session.TF_SessionRun_wrapper(self._session, options, feed_dict,\n\u001b[1;32m   1452\u001b[0m                                             \u001b[0mfetch_list\u001b[0m\u001b[0;34m,\u001b[0m \u001b[0mtarget_list\u001b[0m\u001b[0;34m,\u001b[0m\u001b[0;34m\u001b[0m\u001b[0;34m\u001b[0m\u001b[0m\n\u001b[0;32m-> 1453\u001b[0;31m                                             run_metadata)\n\u001b[0m\u001b[1;32m   1454\u001b[0m \u001b[0;34m\u001b[0m\u001b[0m\n\u001b[1;32m   1455\u001b[0m   \u001b[0;32mdef\u001b[0m \u001b[0m_call_tf_sessionprun\u001b[0m\u001b[0;34m(\u001b[0m\u001b[0mself\u001b[0m\u001b[0;34m,\u001b[0m \u001b[0mhandle\u001b[0m\u001b[0;34m,\u001b[0m \u001b[0mfeed_dict\u001b[0m\u001b[0;34m,\u001b[0m \u001b[0mfetch_list\u001b[0m\u001b[0;34m)\u001b[0m\u001b[0;34m:\u001b[0m\u001b[0;34m\u001b[0m\u001b[0;34m\u001b[0m\u001b[0m\n",
            "\u001b[0;31mKeyboardInterrupt\u001b[0m: "
          ]
        }
      ]
    },
    {
      "cell_type": "markdown",
      "metadata": {
        "id": "oF4-PqF0Fl7R"
      },
      "source": [
        "If you're creating an API based on your model and need to pass the generated text elsewhere, you can do `text = gpt2.generate(sess, return_as_list=True)[0]`\n",
        "\n",
        "You can also pass in a `prefix` to the generate function to force the text to start with a given character sequence and generate text from there (good if you add an indicator when the text starts).\n",
        "\n",
        "You can also generate multiple texts at a time by specifing `nsamples`. Unique to GPT-2, you can pass a `batch_size` to generate multiple samples in parallel, giving a massive speedup (in Colaboratory, set a maximum of 20 for `batch_size`).\n",
        "\n",
        "Other optional-but-helpful parameters for `gpt2.generate` and friends:\n",
        "\n",
        "*  **`length`**: Number of tokens to generate (default 1023, the maximum)\n",
        "* **`temperature`**: The higher the temperature, the crazier the text (default 0.7, recommended to keep between 0.7 and 1.0)\n",
        "* **`top_k`**: Limits the generated guesses to the top *k* guesses (default 0 which disables the behavior; if the generated output is super crazy, you may want to set `top_k=40`)\n",
        "* **`top_p`**: Nucleus sampling: limits the generated guesses to a cumulative probability. (gets good results on a dataset with `top_p=0.9`)\n",
        "* **`truncate`**: Truncates the input text until a given sequence, excluding that sequence (e.g. if `truncate='<|endoftext|>'`, the returned text will include everything before the first `<|endoftext|>`). It may be useful to combine this with a smaller `length` if the input texts are short.\n",
        "*  **`include_prefix`**: If using `truncate` and `include_prefix=False`, the specified `prefix` will not be included in the returned text."
      ]
    },
    {
      "cell_type": "code",
      "metadata": {
        "id": "8DKMc0fiej4N",
        "colab": {
          "base_uri": "https://localhost:8080/"
        },
        "outputId": "ff0f9fbb-419f-425b-ea30-742c088dd117"
      },
      "source": [
        "gpt2.generate(sess,\n",
        "              length=300,\n",
        "              temperature=0.3,\n",
        "              top_p=0.8,\n",
        "              prefix=\"Pharyngitis can be cured bu these drugs:\",\n",
        "              nsamples=5,\n",
        "              batch_size=5\n",
        "              )"
      ],
      "execution_count": null,
      "outputs": [
        {
          "output_type": "stream",
          "name": "stdout",
          "text": [
            "Pharyngitis can be cured bu these drugs:\n",
            "\n",
            "Ciprofloxacin\n",
            "\n",
            "Granulocyte colony-stimulating factor\n",
            "Ciprofloxacin,f\n",
            "Cefotaxel,f\n",
            "Pimex,f\n",
            "Lipid,f\n",
            "Anticonvulsa\n",
            "\n",
            "Paxil,f\n",
            "Tofranil,f\n",
            "Tofranil XL\n",
            "\n",
            "Anticonvulsant,f\n",
            "\n",
            "Anticonvulsant-\n",
            "\n",
            "Duloxetinea,f\n",
            "\n",
            "Duloxetinea,f\n",
            "\n",
            "Duloxetinea,f\n",
            "\n",
            "Duloxetinea,f\n",
            "\n",
            "Duloxetinea,f\n",
            "\n",
            "Duloxetinea,f\n",
            "\n",
            "Duloxetinea,f\n",
            "\n",
            "Duloxetinea,f\n",
            "\n",
            "Duloxetinea,f\n",
            "\n",
            "Duloxetinea,f\n",
            "\n",
            "Duloxetinea,f\n",
            "\n",
            "Duloxetinea,f\n",
            "\n",
            "Duloxetinea,f\n",
            "\n",
            "Duloxetinea,f\n",
            "\n",
            "Duloxetinea,f\n",
            "\n",
            "Duloxetinea,f\n",
            "\n",
            "Duloxetinea,f\n",
            "\n",
            "Duloxetinea,f\n",
            "\n",
            "Duloxetinea,f\n",
            "\n",
            "Duloxetinea,f\n",
            "\n",
            "Duloxetinea,f\n",
            "\n",
            "Duloxetinea,f\n",
            "\n",
            "Duloxetinea,f\n",
            "====================\n",
            "Pharyngitis can be cured bu these drugs:\n",
            "\n",
            "Ciprofloxacin\n",
            "\n",
            "Acyclovir\n",
            "\n",
            "Ciprofloxacin\n",
            "\n",
            "Acyclovir\n",
            "\n",
            "Aminoketone\n",
            "\n",
            "Aminoketone\n",
            "\n",
            "Ciprofloxacin\n",
            "\n",
            "Aminoketone\n",
            "\n",
            "Ciprofloxacin\n",
            "\n",
            "Aminoketone\n",
            "\n",
            "Ciprofloxacin\n",
            "\n",
            "Aminoketone\n",
            "\n",
            "Ciprofloxacin\n",
            "\n",
            "Aminoketone\n",
            "\n",
            "Ciprofloxacin\n",
            "\n",
            "Aminoketone\n",
            "\n",
            "Ciprofloxacin\n",
            "\n",
            "Aminoketone\n",
            "\n",
            "Ciprofloxacin\n",
            "\n",
            "Aminoketone\n",
            "\n",
            "Ciprofloxacin\n",
            "\n",
            "Aminoketone\n",
            "\n",
            "Ciprofloxacin\n",
            "\n",
            "Aminoketone\n",
            "\n",
            "Ciprofloxacin\n",
            "\n",
            "Aminoketone\n",
            "\n",
            "Ciprofloxacin\n",
            "\n",
            "Aminoketone\n",
            "\n",
            "Ciprofloxacin\n",
            "\n",
            "Aminoketone\n",
            "\n",
            "Ciprofloxacin\n",
            "\n",
            "Aminoketone\n",
            "\n",
            "Ciprofloxacin\n",
            "\n",
            "Aminoketone\n",
            "\n",
            "Ciprofloxacin\n",
            "\n",
            "Aminoketone\n",
            "\n",
            "Ciprofloxacin\n",
            "\n",
            "Aminoketone\n",
            "====================\n",
            "Pharyngitis can be cured bu these drugs:\n",
            "\n",
            "Ciprofloxacin\n",
            "\n",
            "Granulocyte colony-stimulating factor\n",
            "Ciprofloxacin,f\n",
            "Cefotaxel,f\n",
            "Pimex,f\n",
            "Ofloxacin,e\n",
            "Ofloxacin,p\n",
            "Pimexene,g\n",
            "Pimexeneq\n",
            "\n",
            "Pimexenesa\n",
            "\n",
            "Pimexenesa q\n",
            "\n",
            "Pimexenesa t\n",
            "\n",
            "Pimexenesa u\n",
            "\n",
            "Sero-algastase\n",
            "\n",
            "Sero-algastase,\tGranulocyte colony-stimulating factor,\tOfloxacin,f,f,f,f,f,f,f,f,f,f,f,f\n",
            "\n",
            "and other drugs.\n",
            "\n",
            "Drug-Induced Ovarian Cancer (DOC)\n",
            " The primary endpoint for drug-induced ovarian cancer is death.\n",
            " The risk of drug-induced ovarian cancer is low because of noncompliance with drug therapy.\n",
            "\n",
            "Corticosteroid Therapy\n",
            " The use of corticosteroids in pediatric patients has been controversial. Four studies were reported that were not randomized; therefore, these trials are not included in this discussion.\n",
            "\n",
            "Venous Thromboembolism\n",
            " The risk of venous thromboembolism is low because of inadequate data to suggest a cause.\n",
            "\n",
            "Breast Cancer | CHAPTER 53\n",
            "\n",
            "\n",
            "====================\n",
            "Pharyngitis can be cured bu these drugs:\n",
            "\n",
            "Ciprofloxacin\n",
            "\n",
            "Ciprofloxacin,e\n",
            "\n",
            "Piperacillin\n",
            "\n",
            "Tetracycline\n",
            "\n",
            "Tetracycline hydrochloride\n",
            "\n",
            "Tetracycline\n",
            "\n",
            "Tetracycline\n",
            "\n",
            "Tetracycline\n",
            "\n",
            "Tetracycline\n",
            "\n",
            "Tetracycline\n",
            "\n",
            "Tetracycline\n",
            "\n",
            "Tetracycline\n",
            "\n",
            "Tetracycline\n",
            "\n",
            "Tetracycline\n",
            "\n",
            "Tetracycline\n",
            "\n",
            "Tetracycline\n",
            "\n",
            "Tetracycline\n",
            "\n",
            "Tetracycline\n",
            "\n",
            "Tetracycline\n",
            "\n",
            "Tetracycline\n",
            "\n",
            "Tetracycline\n",
            "\n",
            "Tetracycline\n",
            "\n",
            "Tetracycline\n",
            "\n",
            "Tetracycline\n",
            "\n",
            "Tetracycline\n",
            "\n",
            "Tetracycline\n",
            "\n",
            "Tetracycline\n",
            "\n",
            "Tetracycline\n",
            "\n",
            "Tetracycline\n",
            "\n",
            "Tetracycline\n",
            "\n",
            "Tetracycline\n",
            "\n",
            "Tetracycline\n",
            "\n",
            "Tetracycline\n",
            "\n",
            "Tetracycline\n",
            "\n",
            "Tetracycline\n",
            "\n",
            "Tetracycline\n",
            "\n",
            "Tetracycline\n",
            "\n",
            "Tetracycline\n",
            "\n",
            "Tetracycline\n",
            "\n",
            "Tetracycline\n",
            "\n",
            "Tetracycline\n",
            "\n",
            "Tetracy\n",
            "====================\n",
            "Pharyngitis can be cured bu these drugs:\n",
            "\n",
            "Ciprofloxacin\n",
            "\n",
            "Granulocyte colony-stimulating factor\n",
            "\n",
            "Ciprofloxacin\n",
            "\n",
            "Ciprofloxacin\n",
            "\n",
            "Ciprofloxacin\n",
            "\n",
            "Ciprofloxacin\n",
            "\n",
            "Ciprofloxacin\n",
            "\n",
            "Ciprofloxacin\n",
            "\n",
            "Ciprofloxacin\n",
            "\n",
            "Ciprofloxacin\n",
            "\n",
            "Ciprofloxacin\n",
            "\n",
            "Ciprofloxacin\n",
            "\n",
            "Ciprofloxacin\n",
            "\n",
            "Ciprofloxacin\n",
            "\n",
            "Ciprofloxacin\n",
            "\n",
            "Ciprofloxacin\n",
            "\n",
            "Ciprofloxacin\n",
            "\n",
            "Ciprofloxacin\n",
            "\n",
            "Ciprofloxacin\n",
            "\n",
            "Ciprofloxacin\n",
            "\n",
            "Ciprofloxacin\n",
            "\n",
            "Ciprofloxacin\n",
            "\n",
            "Ciprofloxacin\n",
            "\n",
            "Ciprofloxacin\n",
            "\n",
            "Ciprofloxacin\n",
            "\n",
            "Ciprofloxacin\n",
            "\n",
            "Ciprofloxacin\n",
            "\n",
            "Ciprofloxacin\n",
            "\n",
            "Ciprofloxacin\n",
            "\n",
            "Ciprofloxacin\n",
            "\n",
            "Ciprofloxacin\n",
            "\n",
            "Ciprofloxacin\n",
            "\n",
            "Ciprofloxacin\n",
            "\n",
            "====================\n"
          ]
        }
      ]
    },
    {
      "cell_type": "markdown",
      "metadata": {
        "id": "zjjEN2Tafhl2"
      },
      "source": [
        "For bulk generation, you can generate a large amount of text to a file and sort out the samples locally on your computer. The next cell will generate a generated text file with a unique timestamp.\n",
        "\n",
        "You can rerun the cells as many times as you want for even more generated texts!"
      ]
    },
    {
      "cell_type": "code",
      "metadata": {
        "id": "Fa6p6arifSL0"
      },
      "source": [
        "gen_file = 'gpt2_gentext_{:%Y%m%d_%H%M%S}.txt'.format(datetime.utcnow())\n",
        "\n",
        "gpt2.generate_to_file(sess,\n",
        "                      destination_path=gen_file,\n",
        "                      length=500,\n",
        "                      temperature=0.7,\n",
        "                      nsamples=100,\n",
        "                      batch_size=20\n",
        "                      )"
      ],
      "execution_count": null,
      "outputs": []
    },
    {
      "cell_type": "code",
      "metadata": {
        "id": "0-LRex8lfv1g"
      },
      "source": [
        "# may have to run twice to get file to download\n",
        "files.download(gen_file)"
      ],
      "execution_count": null,
      "outputs": []
    },
    {
      "cell_type": "markdown",
      "metadata": {
        "id": "QQAN3M6RT7Kj"
      },
      "source": [
        "## Generate Text From The Pretrained Model\n",
        "\n",
        "If you want to generate text from the pretrained model, not a finetuned model, pass `model_name` to `gpt2.load_gpt2()` and `gpt2.generate()`.\n",
        "\n",
        "This is currently the only way to generate text from the 774M or 1558M models with this notebook."
      ]
    },
    {
      "cell_type": "code",
      "metadata": {
        "id": "hsUd_jHgUZnD",
        "colab": {
          "base_uri": "https://localhost:8080/",
          "height": 158
        },
        "outputId": "4e0c8a3f-3527-41c4-e3fe-3357f3f8f6c2"
      },
      "source": [
        "model_name = \"774M\"\n",
        "\n",
        "gpt2.download_gpt2(model_name=model_name)"
      ],
      "execution_count": null,
      "outputs": [
        {
          "output_type": "stream",
          "text": [
            "Fetching checkpoint: 1.05Mit [00:00, 354Mit/s]                                                      \n",
            "Fetching encoder.json: 1.05Mit [00:00, 131Mit/s]                                                    \n",
            "Fetching hparams.json: 1.05Mit [00:00, 279Mit/s]                                                    \n",
            "Fetching model.ckpt.data-00000-of-00001: 3.10Git [00:23, 131Mit/s]                                  \n",
            "Fetching model.ckpt.index: 1.05Mit [00:00, 380Mit/s]                                                \n",
            "Fetching model.ckpt.meta: 2.10Mit [00:00, 226Mit/s]                                                 \n",
            "Fetching vocab.bpe: 1.05Mit [00:00, 199Mit/s]                                                       \n"
          ],
          "name": "stderr"
        }
      ]
    },
    {
      "cell_type": "code",
      "metadata": {
        "id": "BAe4NpKNUj2C",
        "colab": {
          "base_uri": "https://localhost:8080/",
          "height": 124
        },
        "outputId": "b09bfe1d-2ff8-4b8a-fffb-273d28d5d4ae"
      },
      "source": [
        "sess = gpt2.start_tf_sess()\n",
        "\n",
        "gpt2.load_gpt2(sess, model_name=model_name)"
      ],
      "execution_count": null,
      "outputs": [
        {
          "output_type": "stream",
          "text": [
            "WARNING: Logging before flag parsing goes to stderr.\n",
            "W0828 18:37:58.571830 139905369159552 deprecation.py:323] From /usr/local/lib/python3.6/dist-packages/tensorflow/python/training/saver.py:1276: checkpoint_exists (from tensorflow.python.training.checkpoint_management) is deprecated and will be removed in a future version.\n",
            "Instructions for updating:\n",
            "Use standard file APIs to check for files with this prefix.\n"
          ],
          "name": "stderr"
        },
        {
          "output_type": "stream",
          "text": [
            "Loading pretrained model models/774M/model.ckpt\n"
          ],
          "name": "stdout"
        }
      ]
    },
    {
      "cell_type": "code",
      "metadata": {
        "id": "-xInIZKaU104",
        "colab": {
          "base_uri": "https://localhost:8080/",
          "height": 797
        },
        "outputId": "56348e28-7d08-45e3-c859-f26c0efd066d"
      },
      "source": [
        "gpt2.generate(sess,\n",
        "              model_name=model_name,\n",
        "              prefix=\"The secret of life is\",\n",
        "              length=100,\n",
        "              temperature=0.7,\n",
        "              top_p=0.9,\n",
        "              nsamples=5,\n",
        "              batch_size=5\n",
        "              )"
      ],
      "execution_count": null,
      "outputs": [
        {
          "output_type": "stream",
          "text": [
            "The secret of life is that it's really easy to make it complicated,\" said Bill Nye, the host of the popular science show \"Bill Nye the Science Guy.\" \"And this is one of the reasons why we all need to be smarter about science, because we can't keep up with the amazing things that are going on all the time.\"\n",
            "\n",
            "While Nye is correct that \"everything that's going on all the time\" is making the world a better place, he misses the point. This is not\n",
            "====================\n",
            "The secret of life is in the rhythm of the universe. It's not a mystery. It's not a mystery to me. It's the nature of the universe. It's the beauty of the universe. It's the way the universe works. It's the way the universe is. It's the way the universe is going to work. It's the way the universe is. It's the way the universe is. It's the way the universe is. It's the way the universe is. It's the way\n",
            "====================\n",
            "The secret of life is in the universe.\n",
            "\n",
            "\n",
            "-\n",
            "\n",
            "The Red Devil\n",
            "\n",
            "It's the end of the world as we know it, and the only thing that can save us is a band of super-powered individuals known as the Red Devil.\n",
            "\n",
            "\n",
            "The Red Devil is a group of super-powered individuals who are seeking the secret of life and the only way they know how to do it is by taking on the roles of a variety of different super-powered individuals, each of which has their own\n",
            "====================\n",
            "The secret of life is in the mixing of the elements, and it is the mixing of the elements that makes life possible.\"\n",
            "\n",
            "But in the world of food science, the idea of a \"complex\" or \"complexity\" is almost entirely imaginary.\n",
            "\n",
            "As a scientist, I'm fascinated by the question of how life first began.\n",
            "\n",
            "It's the question that drives my work and the work of the scientists who work on it.\n",
            "\n",
            "My current research is exploring how microbes work in the first moments\n",
            "====================\n",
            "The secret of life is the journey of life, the search for the truth.\n",
            "\n",
            "4.4.2. The last thing you know\n",
            "\n",
            "There is nothing more important than the last thing you know.\n",
            "\n",
            "4.4.3. The little things that make all the difference\n",
            "\n",
            "The little things that make all the difference.\n",
            "\n",
            "4.4.4. The truth is the best teacher\n",
            "\n",
            "The truth is the best teacher.\n",
            "\n",
            "4.4.5. The truth is what\n",
            "====================\n"
          ],
          "name": "stdout"
        }
      ]
    },
    {
      "cell_type": "markdown",
      "metadata": {
        "id": "ig-KVgkCDCKD"
      },
      "source": [
        "# Etcetera\n",
        "\n",
        "If the notebook has errors (e.g. GPU Sync Fail), force-kill the Colaboratory virtual machine and restart it with the command below:"
      ]
    },
    {
      "cell_type": "code",
      "metadata": {
        "id": "rIHiVP53FnsX"
      },
      "source": [
        "!kill -9 -1"
      ],
      "execution_count": null,
      "outputs": []
    },
    {
      "cell_type": "markdown",
      "metadata": {
        "id": "wmTXWNUygS5E"
      },
      "source": [
        "# LICENSE\n",
        "\n",
        "MIT License\n",
        "\n",
        "Copyright (c) 2019 Max Woolf\n",
        "\n",
        "Permission is hereby granted, free of charge, to any person obtaining a copy\n",
        "of this software and associated documentation files (the \"Software\"), to deal\n",
        "in the Software without restriction, including without limitation the rights\n",
        "to use, copy, modify, merge, publish, distribute, sublicense, and/or sell\n",
        "copies of the Software, and to permit persons to whom the Software is\n",
        "furnished to do so, subject to the following conditions:\n",
        "\n",
        "The above copyright notice and this permission notice shall be included in all\n",
        "copies or substantial portions of the Software.\n",
        "\n",
        "THE SOFTWARE IS PROVIDED \"AS IS\", WITHOUT WARRANTY OF ANY KIND, EXPRESS OR\n",
        "IMPLIED, INCLUDING BUT NOT LIMITED TO THE WARRANTIES OF MERCHANTABILITY,\n",
        "FITNESS FOR A PARTICULAR PURPOSE AND NONINFRINGEMENT. IN NO EVENT SHALL THE\n",
        "AUTHORS OR COPYRIGHT HOLDERS BE LIABLE FOR ANY CLAIM, DAMAGES OR OTHER\n",
        "LIABILITY, WHETHER IN AN ACTION OF CONTRACT, TORT OR OTHERWISE, ARISING FROM,\n",
        "OUT OF OR IN CONNECTION WITH THE SOFTWARE OR THE USE OR OTHER DEALINGS IN THE\n",
        "SOFTWARE."
      ]
    }
  ]
}