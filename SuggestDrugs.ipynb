{
 "cells": [
  {
   "cell_type": "code",
   "execution_count": 18,
   "metadata": {},
   "outputs": [],
   "source": [
    "from flashtext import KeywordProcessor\n",
    "import requests\n",
    "import json\n",
    "import pandas as pd\n",
    "import re"
   ]
  },
  {
   "cell_type": "code",
   "execution_count": 80,
   "metadata": {},
   "outputs": [],
   "source": []
  },
  {
   "cell_type": "code",
   "execution_count": null,
   "metadata": {},
   "outputs": [],
   "source": [
    "salts=df[:,]"
   ]
  },
  {
   "cell_type": "code",
   "execution_count": 2,
   "metadata": {},
   "outputs": [],
   "source": [
    "x='common cold'\n",
    "x=x.replace(' ','+')"
   ]
  },
  {
   "cell_type": "code",
   "execution_count": 20,
   "metadata": {},
   "outputs": [],
   "source": [
    "url= f'https://api.fda.gov/drug/label.json?search={x}&limit=220'\n",
    "\n",
    "r=requests.request('get',url)\n",
    "\n",
    "results=json.loads(r.text)['results']\n"
   ]
  },
  {
   "cell_type": "code",
   "execution_count": 21,
   "metadata": {},
   "outputs": [],
   "source": [
    "info=[]\n",
    "\n",
    "for r in results:            \n",
    "    if \"active_ingredient\" in r:\n",
    "        if \"indications_and_usage\" in r:\n",
    "            \n",
    "            k=str(r[\"active_ingredient\"])\n",
    "            v=str(r[\"indications_and_usage\"])\n",
    "\n",
    "            info.extend((k,v))\n",
    "    "
   ]
  },
  {
   "cell_type": "code",
   "execution_count": 9,
   "metadata": {},
   "outputs": [
    {
     "data": {
      "text/plain": [
       "[\"['Active ingredient Chlorhexidine Gluconate 4% Solution']\",\n",
       " \"['Use surgical hand scrub: significantly reduces the number of microorganisms on the hands and forearms prior to surgery or patient care']\",\n",
       " \"['Active Ingredient (In Each Bottle)---Pseudoephedrine HCl 60 mg']\",\n",
       " \"['For the temporary relief of nasal decongestiom due to the commomn cold, hay fever or other upper respiratpry allergies. Temporarily relieves nasal stuffiness. Decongests nasal passages: shrinks swollen membranes. Temporarily restores freer breathing through the nose. Helps decongest sinus openings and passages; temporarily relieves sinus congestion and pressure. Promotes nasal and/or sinus drainage. temporarily relieves sinus congestion and pressure.']\",\n",
       " \"['Active ingredients Chlorhexidine gluconate 2% w/v Isopropyl alcohol 70% v/v']\",\n",
       " '[\"Use for the preparation of the patient\\'s skin prior to surgery. Helps to reduce bacteria that potentially can cause skin infection.\"]',\n",
       " \"['Active ingredient (in each capsule) Naproxen sodium 220 mg (naproxen 200 mg) (NSAID)* *nonsteroidal anti-inflammatory drug']\",\n",
       " \"['Uses • temporarily relieves minor aches and pains due to: • minor pain of arthritis • muscular aches • backache • menstrual cramps • headache • toothache • the common cold • temporarily reduces fever']\",\n",
       " \"['Active ingredient (in each gelcap) Acetaminophen 500 mg']\",\n",
       " \"['Uses temporarily relieves minor aches and pains due to: headache the common cold backache minor pain of arthritis toothache muscular aches premenstrual and menstrual cramps temporarily reduces fever']\",\n",
       " \"['Active ingredients (in each 10 mL) Dextromethorphan HBr 20 mg Guaifenesin 200 mg Phenylephrine HCl 10 mg']\",\n",
       " \"['Uses helps loosen phlegm (mucus) and thin bronchial secretions to drain bronchial tubes temporarily relieves these symptoms occurring with a cold: nasal congestion cough due to minor throat and bronchial irritation']\",\n",
       " \"['ACTIVE INGREDIENTS HPUS Fumaria officinalis (Common fumitory) 6C Natrum muriaticum (Salt) 6C Agaricus muscarius (Fly agaric) 6C Petroleum (Rock-oil) 6C Sepia (Sepia) 6C Kali arsenicosum (Potassium arsenite) 6C Alumina (Alumina) 6C']\",\n",
       " \"['USES This homeopathic medicine helps relieve symptoms of eczema: - dry skin - body rashes - cracked skin - itching']\"]"
      ]
     },
     "execution_count": 9,
     "metadata": {},
     "output_type": "execute_result"
    }
   ],
   "source": [
    "info"
   ]
  },
  {
   "cell_type": "code",
   "execution_count": 67,
   "metadata": {},
   "outputs": [
    {
     "name": "stdout",
     "output_type": "stream",
     "text": [
      "['Uses • temporarily relieves minor aches and pains due to: • minor pain of arthritis • muscular aches • backache • menstrual cramps • headache • toothache • the common cold • temporarily reduces fever']\n",
      "['Uses temporarily relieves minor aches and pains due to: headache the common cold backache minor pain of arthritis toothache muscular aches premenstrual and menstrual cramps temporarily reduces fever']\n",
      "['Uses • temporarily relieves minor aches and pains due to: • headache • muscular aches • backache • minor pain of arthritis • the common cold • toothache • premenstrual and menstrual cramps • temporarily reduces fever']\n",
      "['Uses temporarily relieves these common cold/flu symptoms: • minor aches and pains • headache • sore throat • fever • nasal congestion • cough due to minor throat and bronchial irritation']\n",
      "['Uses temporarily relieves minor aches and pains due to: minor pain of arthritis muscular aches backache menstrual cramps headache toothache the common cold temporarily reduces fever']\n",
      "['Uses temporarily: reduces fever relieves minor aches and pains due to: the common cold flu headache sore throat toothache']\n",
      "['Uses temporarily relieves nasal congestion due to the common cold, hay fever or other upper respiratory allergies, and nasal congestion associated with sinusitis temporarily relieves sinus congestion and pressure']\n",
      "['Uses • temporarily relieves these symptoms associated with hay fever or other upper respiratory allergies, and the common cold: • headache • sinus congestion and pressure • nasal congestion • minor aches and pains • helps decongest sinus openings and passages • promotes sinus drainage • helps clear nasal passages • temporarily reduces fever']\n",
      "['Uses temporarily relieves these symptoms of the common cold: runny nose sneezing temporarily relieves symptoms due to hay fever or other upper respiratory allergies: runny nose sneezing itching nose or throat itchy, watery eyes']\n",
      "['Uses temporarily relieves common cold/flu symptoms: cough due to minor throat and bronchial irritation sore throat headache minor aches and pains fever runny nose and sneezing']\n",
      "['Uses temporarily relieves common cold and flu symptoms: minor aches and pains headache sore throat nasal congestion fever cough due to minor throat and bronchial irritation']\n",
      "['Uses temporarily relieves minor aches and pains due to: muscular aches backache toothache menstrual cramps headache the common cold minor pain of arthritis temporarily reduces fever']\n",
      "['Uses temporarily relieves these common cold and flu symptoms: cough nasal congestion minor aches and pains sore throat headache runny nose sneezing temporarily reduces fever controls cough to help your child get to sleep']\n",
      "['Uses helps loosen phlegm (mucus) and thin bronchial secretions to rid the bronchial passageways of bothersome mucus and make coughs more productive temporarily relieves: cough due to minor throat and bronchial irritation as may occur with the common cold or inhaled irritants the intensity of coughing the impulse to cough to help you get to sleep nasal congestion due to a cold']\n",
      "['Uses • temporarily relieves minor aches and pains due to: • headache • muscular aches • minor pain of arthritis • toothache • backache • the common cold • menstrual cramps • temporarily reduces fever']\n",
      "['Uses temporarily: • reduces fever • relieves minor aches and pains due to: • the common cold • flu • headache • sore throat • toothache']\n",
      "['Uses • temporarily relieves nasal congestion due to: • common cold • hay fever • upper respiratory allergies • shrinks swollen nasal membranes so you can breathe more freely']\n",
      "['Uses temporarily relieves common cold/flu symptoms: • cough due to minor throat and bronchial irritation • sore throat • headache • minor aches and pains • fever • relieves runny nose and sneezing (Nighttime only) • nasal congestion (Daytime only)']\n",
      "['Uses temporarily relieves occasional minor sore throat cough due to minor throat and bronchial irritation occurring with the common cold or inhaled irritants']\n",
      "['Uses temporarily: • reduces fever • relieves minor aches and pains due to: • the common cold • flu • headache • sore throat • toothache']\n",
      "['Uses temporarily relieves nasal congestion due to the common cold, hay fever or other upper respiratory allergies temporarily relieves sinus congestion and pressure']\n",
      "['Uses temporarily relieves nasal congestion due to: common cold hay fever upper respiratory allergies temporarily relieves sinus congestion and pressure shrinks swollen nasal membranes so you can breathe more freely']\n",
      "['Uses temporarily relieves common cold/flu symptoms: • cough due to minor throat and bronchial irritation • sore throat • headache • minor aches and pains • fever • runny nose and sneezing']\n",
      "['Uses temporarily: • relieves minor aches and pains due to the common cold, flu, sore throat, headache and toothache • reduces fever']\n",
      "['Uses temporarily relieves minor aches and pains due to: the common cold headache flu sore throat toothache temporarily reduces fever']\n",
      "['Uses temporarily relieves nasal congestion due to the common cold, hay fever or other upper respiratory allergies temporarily relieves sinus congestion and pressure']\n",
      "['Uses Temporarily relieves minor aches and pains due to: the common cold flu headache sore throat toothache Temporarily reduces fever']\n",
      "['USE(S) temporarily: reduces fever relieves minor aches and pains due to the common cold, flu, sore throat, headaches and toothaches']\n",
      "['Use(s) temporarily relieves minor aches and pain due to: backache headache menstrual cramps minor pain of arthritis muscular aches the common cold toothache temporarily reduces fever']\n",
      "['Uses • temporarily relieves minor aches and pains due to: • minor pain of arthritis • muscular aches • backache • menstrual cramps • headache • toothache • the common cold • temporarily reduces fever']\n"
     ]
    }
   ],
   "source": [
    "word='common cold'\n",
    "use=[]\n",
    "chem=[]\n",
    "for i in range (1,len(info),2):\n",
    "    if re.search(word, info[i], re.IGNORECASE):\n",
    "        print(info[i])\n",
    "        chem.append(info[i-1])"
   ]
  },
  {
   "cell_type": "code",
   "execution_count": 100,
   "metadata": {},
   "outputs": [
    {
     "data": {
      "text/plain": [
       "'[\\'[\"[\\\\\\'Active\\', \\'ingredient\\', \\'(in\\', \\'each\\', \\'capsule)\\', \\'Naproxen\\', \\'sodium\\', \\'220\\', \\'mg\\', \\'(naproxen\\', \\'200\\', \\'mg)\\', \\'(NSAID)*\\', \\'*nonsteroidal\\', \\'anti-inflammatory\\', \\'drug\\\\\\']\",\\', \\'\"[\\\\\\'Active\\', \\'ingredient\\', \\'(in\\', \\'each\\', \\'gelcap)\\', \\'Acetaminophen\\', \\'500\\', \\'mg\\\\\\']\",\\', \\'\"[\\\\\\'Active\\', \\'ingredient\\', \\'(in\\', \\'each\\', \\'caplet)\\', \\'Acetaminophen\\', \\'500\\', \\'mg\\\\\\']\",\\', \\'\"[\\\\\\'Active\\', \\'Ingredients\\', \\'Acetaminophen\\', \\'325\\', \\'mg\\', \\'Dextromethorphan\\', \\'HBr\\', \\'10\\', \\'mg\\', \\'Phenylephrine\\', \\'HCI\\', \\'5\\', \\'mg\\\\\\']\",\\', \\'\"[\\\\\\'Active\\', \\'ingredient\\', \\'Naproxen\\', \\'sodium\\', \\'220mg\\', \\'(naproxen\\', \\'200mg)\\', \\'(NSAID)*\\', \\'*nonsteroidal\\', \\'anti-inflammatory\\', \\'drug\\\\\\']\",\\', \\'\"[\\\\\\'Active\\', \\'ingredient\\', \\'(in\\', \\'each\\', \\'5\\', \\'mL)\\', \\'Acetaminophen\\', \\'160\\', \\'mg\\\\\\']\",\\', \\'\"[\\\\\\'Active\\', \\'ingredient\\', \\'(in\\', \\'each\\', \\'tablet)\\', \\'Phenylephrine\\', \\'HCl\\', \\'10\\', \\'mg\\\\\\']\",\\', \\'\"[\\\\\\'Active\\', \\'ingredients\\', \\'(in\\', \\'each\\', \\'caplet)\\', \\'Acetaminophen\\', \\'325\\', \\'mg\\', \\'Phenylephrine\\', \\'HCl\\', \\'5\\', \\'mg\\\\\\']\",\\', \\'\"[\\\\\\'Active\\', \\'ingredient\\', \\'(in\\', \\'each\\', \\'tablet)\\', \\'Diphenhydramine\\', \\'HCl\\', \\'25\\', \\'mg\\\\\\']\",\\', \\'\"[\\\\\\'Active\\', \\'ingredients\\', \\'(in\\', \\'each\\', \\'30\\', \\'mL\\', \\'dose\\', \\'cup)\\', \\'Acetaminophen,\\', \\'USP\\', \\'650\\', \\'mg\\', \\'Dextromethorphan\\', \\'HBr,\\', \\'USP\\', \\'30\\', \\'mg\\', \\'Doxylamine\\', \\'succinate,\\', \\'USP\\', \\'12.5\\', \\'mg\\\\\\']\",\\', \\'\"[\\\\\\'Active\\', \\'ingredients\\', \\'(in\\', \\'each\\', \\'softgel)\\', \\'Acetaminophen\\', \\'325\\', \\'mg\\', \\'Dextromethorphan\\', \\'HBr\\', \\'10\\', \\'mg\\', \\'Phenylephrine\\', \\'HCl\\', \\'5\\', \\'mg\\\\\\']\",\\', \\'\"[\\\\\\'Active\\', \\'ingredient\\', \\'(in\\', \\'each\\', \\'white\\', \\'tablet)\\', \\'Ibuprofen\\', \\'USP,\\', \\'200\\', \\'mg\\', \\'(NSAID)*\\', \\'*nonsteroidal\\', \\'anti-inflammatory\\', \\'drug\\\\\\']\",\\', \\'\"[\\\\\\'Active\\', \\'ingredients\\', \\'(in\\', \\'each\\', \\'10\\', \\'mL)\\', \\'Purposes\\', \\'Acetaminophen\\', \\'325\\', \\'mg\\', \\'Pain\\', \\'reliever/fever\\', \\'reducer\\', \\'Diphenhydramine\\', \\'HCl\\', \\'12.5\\', \\'mg\\', \\'Antihistamine/cough\\', \\'suppressant\\', \\'Phenylephrine\\', \\'HCl\\', \\'5\\', \\'mg\\', \\'Nasal\\', \\'decongestant\\\\\\']\",\\', \\'\"[\\\\\\'Active\\', \\'ingredients\\', \\'(in\\', \\'each\\', \\'20\\', \\'mL)\\', \\'Dextromethorphan\\', \\'HBr\\', \\'20\\', \\'mg\\', \\'Guaifenesin\\', \\'400\\', \\'mg\\', \\'Phenylephrine\\', \\'HCl\\', \\'10\\', \\'mg\\\\\\']\",\\', \\'\"[\\\\\\'Active\\', \\'ingredient\\', \\'(in\\', \\'each\\', \\'tablet)\\', \\'Ibuprofen\\', \\'200\\', \\'mg\\', \\'(NSAID)*\\', \\'*nonsteroidal\\', \\'anti-inflammatory\\', \\'drug\\\\\\']\",\\', \\'\"[\\\\\\'Active\\', \\'ingredient\\', \\'(in\\', \\'each\\', \\'0.8\\', \\'mL)\\', \\'Acetaminophen\\', \\'80\\', \\'mg\\\\\\']\",\\', \\'\"[\\\\\\'Active\\', \\'ingredient\\', \\'Oxymetazoline\\', \\'HCl\\', \\'0.05%\\\\\\']\",\\', \\'\"[\\\\\\'Active\\', \\'ingredients\\', \\'for\\', \\'Nighttime\\', \\'(in\\', \\'each\\', \\'softgel)\\', \\'Acetaminophen\\', \\'325\\', \\'mg\\', \\'Dextromethorphan\\', \\'HBr\\', \\'15\\', \\'mg\\', \\'Doxylamine\\', \\'succinate\\', \\'6.25\\', \"mg\\',\", \"\\'Active\", \\'ingredient\\', \\'for\\', \\'Daytime\\', \\'(in\\', \\'each\\', \\'softgel)\\', \\'Acetaminophen\\', \\'325\\', \\'mg\\', \\'Dextromethorphan\\', \\'HBr\\', \\'10\\', \\'mg\\', \\'Phenylephrine\\', \\'HCl\\', \\'5\\', \\'mg\\\\\\']\",\\', \\'\"[\\\\\\'Active\\', \\'ingredient\\', \\'(in\\', \\'each\\', \\'lozenge)\\', \\'Menthol\\', \\'10\\', \\'mg\\\\\\']\",\\', \\'\"[\\\\\\'Active\\', \\'ingredient\\', \\'(in\\', \\'each\\', \\'5\\', \\'mL)\\', \\'Acetaminophen\\', \\'160\\', \\'mg\\\\\\']\",\\', \\'\"[\\\\\\'Active\\', \\'ingredient\\', \\'(in\\', \\'each\\', \\'tablet)\\', \\'Phenylephrine\\', \\'HCl\\', \\'10\\', \\'mg\\\\\\']\",\\', \\'\"[\\\\\\'Active\\', \\'ingredient\\', \\'Oxymetazoline\\', \\'hydrochloride\\', \\'0.05%\\\\\\']\",\\', \\'\"[\\\\\\'Active\\', \\'ingredients\\', \\'(in\\', \\'each\\', \\'liquid\\', \\'cap)\\', \\'Acetaminophen\\', \\'325\\', \\'mg\\', \\'Dextromethorphan\\', \\'HBr\\', \\'15\\', \\'mg\\', \\'Doxylamine\\', \\'succinate\\', \\'6.25\\', \\'mg\\\\\\']\",\\', \\'\"[\\\\\\'Active\\', \\'ingredient\\', \\'(in\\', \\'each\\', \\'5\\', \\'mL)\\', \\'Ibuprofen\\', \\'100\\', \\'mg\\', \\'(NSAID)*\\', \\'*nonsteroidal\\', \\'anti-inflammatory\\', \\'drug\\\\\\']\",\\', \\'\"[\\\\\\'Active\\', \\'ingredient\\', \\'(in\\', \\'each\\', \\'tablet)\\', \\'Acetaminophen\\', \\'80\\', \\'mg\\\\\\']\",\\', \\'\"[\\\\\\'Active\\', \\'ingredient\\', \\'(in\\', \\'each\\', \\'tablet)\\', \\'Pseudoephedrine\\', \\'HCl,\\', \\'USP\\', \\'120\\', \\'mg\\\\\\']\",\\', \\'\"[\\\\\\'Active\\', \\'ingredient\\', \\'(in\\', \\'each\\', \\'5\\', \\'mL\\', \\'=\\', \\'1\\', \\'teaspoon)\\', \\'Acetaminophen\\', \\'160\\', \\'mg\\\\\\']\",\\', \\'\"[\\\\\\'ACTIVE\\', \\'INGREDIENT\\', \\'(in\\', \\'each\\', \\'1.25\\', \\'mL)\\', \\'Ibuprofen\\', \\'50\\', \\'mg\\', \\'(NSAID)*\\', \\'*nonsteroidal\\', \\'anti-inflammatory\\', \\'drug\\\\\\']\",\\', \\'\"[\\\\\\'Active\\', \\'ingredient(s)\\', \\'Ibuprofen\\', \\'200\\', \\'mg\\', \\'(NSAID)*\\', \\'*\\', \\'nonsteroidal\\', \\'anti-inflammatory\\', \\'drug\\\\\\']\",\\', \\'\"[\\\\\\'Active\\', \\'ingredient\\', \\'(in\\', \\'each\\', \\'caplet)\\', \\'Naproxen\\', \\'sodium\\', \\'220\\', \\'mg\\', \\'(naproxen\\', \\'200\\', \\'mg)\\', \\'(NSAID)*\\', \\'*nonsteroidal\\', \\'anti-inflammatory\\', \\'drug\\\\\\']\"]\\']'"
      ]
     },
     "execution_count": 100,
     "metadata": {},
     "output_type": "execute_result"
    }
   ],
   "source": [
    "chems=str(chem)\n",
    "chems=str(chems.split())\n",
    "chems"
   ]
  },
  {
   "cell_type": "code",
   "execution_count": 65,
   "metadata": {},
   "outputs": [
    {
     "ename": "AttributeError",
     "evalue": "'list' object has no attribute 'split'",
     "output_type": "error",
     "traceback": [
      "\u001b[1;31m---------------------------------------------------------------------------\u001b[0m",
      "\u001b[1;31mAttributeError\u001b[0m                            Traceback (most recent call last)",
      "\u001b[1;32m<ipython-input-65-968109b4fa26>\u001b[0m in \u001b[0;36m<module>\u001b[1;34m\u001b[0m\n\u001b[1;32m----> 1\u001b[1;33m \u001b[0mchems\u001b[0m\u001b[1;33m=\u001b[0m\u001b[0mset\u001b[0m\u001b[1;33m(\u001b[0m\u001b[0mchem\u001b[0m\u001b[1;33m.\u001b[0m\u001b[0msplit\u001b[0m\u001b[1;33m(\u001b[0m\u001b[1;33m)\u001b[0m\u001b[1;33m)\u001b[0m\u001b[1;33m\u001b[0m\u001b[1;33m\u001b[0m\u001b[0m\n\u001b[0m\u001b[0;32m      2\u001b[0m \u001b[0mchems\u001b[0m\u001b[1;33m\u001b[0m\u001b[1;33m\u001b[0m\u001b[0m\n",
      "\u001b[1;31mAttributeError\u001b[0m: 'list' object has no attribute 'split'"
     ]
    }
   ],
   "source": []
  },
  {
   "cell_type": "code",
   "execution_count": 25,
   "metadata": {},
   "outputs": [],
   "source": [
    "df=pd.read_csv('drug_db.csv', low_memory=False)"
   ]
  },
  {
   "cell_type": "code",
   "execution_count": 92,
   "metadata": {},
   "outputs": [
    {
     "data": {
      "text/plain": [
       "\"['0', 'Abacavir', '(300mg)', '1', 'Abacavir', '(300mg)', '2', 'Abacavir', '(300mg)', '3', 'Abacavir', '(600mg)', '+', 'Dolutegravir', '(50mg)', '+', 'Lamiv...', '4', 'Abacavir', '(600mg)', '+', 'Lamivudine', '(300mg)', '...', '240761', 'Zotepine', '(50mg)', '240762', 'Zuclopenthixol', '(100mg)', '240763', 'Zuclopenthixol', '(200mg/ml)', '240764', 'Zuclopenthixol', '(50mg)', '240765', 'Zuclopenthixol', '(50mg/ml)', 'Name:', 'Abacavir', '(300mg),', 'Length:', '240766,', 'dtype:', 'object']\""
      ]
     },
     "execution_count": 92,
     "metadata": {},
     "output_type": "execute_result"
    }
   ],
   "source": [
    "comp=str(df.iloc[:,3])\n",
    "comp=str(comp.split())\n",
    "comp"
   ]
  },
  {
   "cell_type": "code",
   "execution_count": null,
   "metadata": {},
   "outputs": [],
   "source": [
    "kwrd = KeywordProcessor()\n",
    "kwrd.add_keywords_from_string(comp)"
   ]
  },
  {
   "cell_type": "code",
   "execution_count": 89,
   "metadata": {},
   "outputs": [
    {
     "data": {
      "text/plain": [
       "{'1'}"
      ]
     },
     "execution_count": 89,
     "metadata": {},
     "output_type": "execute_result"
    }
   ],
   "source": [
    "match = chems & comp\n",
    "match"
   ]
  },
  {
   "cell_type": "code",
   "execution_count": 88,
   "metadata": {},
   "outputs": [
    {
     "data": {
      "text/plain": [
       "['1']"
      ]
     },
     "execution_count": 88,
     "metadata": {},
     "output_type": "execute_result"
    }
   ],
   "source": [
    "list(set(chems).intersection(set(comp)))\n"
   ]
  },
  {
   "cell_type": "code",
   "execution_count": 95,
   "metadata": {},
   "outputs": [],
   "source": [
    "if re.match(chems, comp, re.IGNORECASE):\n",
    "    print('yes')\n",
    "        \n",
    "        "
   ]
  },
  {
   "cell_type": "code",
   "execution_count": 98,
   "metadata": {},
   "outputs": [
    {
     "name": "stdout",
     "output_type": "stream",
     "text": [
      "Match(a=0, b=0, size=2)\n",
      "['\n",
      "['\n"
     ]
    }
   ],
   "source": [
    "from difflib import SequenceMatcher\n",
    "\n",
    "string1 = chems\n",
    "string2 = comp\n",
    "\n",
    "match = SequenceMatcher(None, string1, string2).find_longest_match(0, len(string1), 0, len(string2))\n",
    "\n",
    "print(match)  # -> Match(a=0, b=15, size=9)\n",
    "print(string1[match.a: match.a + match.size])  # -> apple pie\n",
    "print(string2[match.b: match.b + match.size])  # -> apple pie"
   ]
  },
  {
   "cell_type": "code",
   "execution_count": 97,
   "metadata": {},
   "outputs": [
    {
     "data": {
      "text/plain": [
       "Match(a=0, b=0, size=0)"
      ]
     },
     "execution_count": 97,
     "metadata": {},
     "output_type": "execute_result"
    }
   ],
   "source": [
    "match"
   ]
  },
  {
   "cell_type": "code",
   "execution_count": null,
   "metadata": {},
   "outputs": [],
   "source": []
  }
 ],
 "metadata": {
  "kernelspec": {
   "display_name": "Python (latent)*",
   "language": "python",
   "name": "latent"
  },
  "language_info": {
   "codemirror_mode": {
    "name": "ipython",
    "version": 3
   },
   "file_extension": ".py",
   "mimetype": "text/x-python",
   "name": "python",
   "nbconvert_exporter": "python",
   "pygments_lexer": "ipython3",
   "version": "3.8.5"
  }
 },
 "nbformat": 4,
 "nbformat_minor": 4
}
